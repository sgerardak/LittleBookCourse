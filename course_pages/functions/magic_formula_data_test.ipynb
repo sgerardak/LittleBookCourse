{
 "cells": [
  {
   "cell_type": "code",
   "execution_count": 1,
   "metadata": {},
   "outputs": [],
   "source": [
    "import streamlit as st\n",
    "import pandas as pd\n",
    "import fmpsdk\n",
    "from IPython.display import display\n",
    "import time"
   ]
  },
  {
   "cell_type": "code",
   "execution_count": 2,
   "metadata": {},
   "outputs": [],
   "source": [
    "API_KEY = \"ePuHa7Ugbp1yWxJrDEgPwolHArwIMHhB\""
   ]
  },
  {
   "cell_type": "markdown",
   "metadata": {},
   "source": [
    "HERE WE ARE GOING TO RANK THE STOCKS BASED ON ROIC AND EPS FOR EACH YEAR"
   ]
  },
  {
   "cell_type": "code",
   "execution_count": 3,
   "metadata": {},
   "outputs": [],
   "source": [
    "financial_data=pd.read_csv(\"symbols_roic_eps.csv\")\n",
    "financial_data = financial_data.dropna()\n"
   ]
  },
  {
   "cell_type": "code",
   "execution_count": 4,
   "metadata": {},
   "outputs": [],
   "source": [
    "# Convert 'calendarYear' column to integer\n",
    "financial_data[\"calendarYear\"] = financial_data[\"calendarYear\"].astype(int)\n"
   ]
  },
  {
   "cell_type": "code",
   "execution_count": 5,
   "metadata": {},
   "outputs": [
    {
     "data": {
      "text/html": [
       "<div>\n",
       "<style scoped>\n",
       "    .dataframe tbody tr th:only-of-type {\n",
       "        vertical-align: middle;\n",
       "    }\n",
       "\n",
       "    .dataframe tbody tr th {\n",
       "        vertical-align: top;\n",
       "    }\n",
       "\n",
       "    .dataframe thead th {\n",
       "        text-align: right;\n",
       "    }\n",
       "</style>\n",
       "<table border=\"1\" class=\"dataframe\">\n",
       "  <thead>\n",
       "    <tr style=\"text-align: right;\">\n",
       "      <th></th>\n",
       "      <th>Unnamed: 0</th>\n",
       "      <th>symbol</th>\n",
       "      <th>date</th>\n",
       "      <th>calendarYear</th>\n",
       "      <th>period</th>\n",
       "      <th>roic</th>\n",
       "      <th>earningsYield</th>\n",
       "    </tr>\n",
       "  </thead>\n",
       "  <tbody>\n",
       "    <tr>\n",
       "      <th>0</th>\n",
       "      <td>0</td>\n",
       "      <td>AAPL</td>\n",
       "      <td>2024-09-28</td>\n",
       "      <td>2024</td>\n",
       "      <td>FY</td>\n",
       "      <td>0.443071</td>\n",
       "      <td>0.026819</td>\n",
       "    </tr>\n",
       "    <tr>\n",
       "      <th>1</th>\n",
       "      <td>1</td>\n",
       "      <td>AAPL</td>\n",
       "      <td>2023-09-30</td>\n",
       "      <td>2023</td>\n",
       "      <td>FY</td>\n",
       "      <td>0.433892</td>\n",
       "      <td>0.035983</td>\n",
       "    </tr>\n",
       "    <tr>\n",
       "      <th>2</th>\n",
       "      <td>2</td>\n",
       "      <td>AAPL</td>\n",
       "      <td>2022-09-24</td>\n",
       "      <td>2022</td>\n",
       "      <td>FY</td>\n",
       "      <td>0.451748</td>\n",
       "      <td>0.040913</td>\n",
       "    </tr>\n",
       "    <tr>\n",
       "      <th>3</th>\n",
       "      <td>3</td>\n",
       "      <td>AAPL</td>\n",
       "      <td>2021-09-25</td>\n",
       "      <td>2021</td>\n",
       "      <td>FY</td>\n",
       "      <td>0.389251</td>\n",
       "      <td>0.038586</td>\n",
       "    </tr>\n",
       "    <tr>\n",
       "      <th>4</th>\n",
       "      <td>4</td>\n",
       "      <td>AAPL</td>\n",
       "      <td>2020-09-26</td>\n",
       "      <td>2020</td>\n",
       "      <td>FY</td>\n",
       "      <td>0.242695</td>\n",
       "      <td>0.029467</td>\n",
       "    </tr>\n",
       "    <tr>\n",
       "      <th>...</th>\n",
       "      <td>...</td>\n",
       "      <td>...</td>\n",
       "      <td>...</td>\n",
       "      <td>...</td>\n",
       "      <td>...</td>\n",
       "      <td>...</td>\n",
       "      <td>...</td>\n",
       "    </tr>\n",
       "    <tr>\n",
       "      <th>95</th>\n",
       "      <td>95</td>\n",
       "      <td>TSM</td>\n",
       "      <td>2019-12-31</td>\n",
       "      <td>2019</td>\n",
       "      <td>FY</td>\n",
       "      <td>0.180743</td>\n",
       "      <td>0.040227</td>\n",
       "    </tr>\n",
       "    <tr>\n",
       "      <th>96</th>\n",
       "      <td>96</td>\n",
       "      <td>TSM</td>\n",
       "      <td>2018-12-31</td>\n",
       "      <td>2018</td>\n",
       "      <td>FY</td>\n",
       "      <td>0.180925</td>\n",
       "      <td>0.061692</td>\n",
       "    </tr>\n",
       "    <tr>\n",
       "      <th>97</th>\n",
       "      <td>97</td>\n",
       "      <td>TSM</td>\n",
       "      <td>2017-12-31</td>\n",
       "      <td>2017</td>\n",
       "      <td>FY</td>\n",
       "      <td>0.190271</td>\n",
       "      <td>0.056912</td>\n",
       "    </tr>\n",
       "    <tr>\n",
       "      <th>98</th>\n",
       "      <td>98</td>\n",
       "      <td>TSM</td>\n",
       "      <td>2016-12-31</td>\n",
       "      <td>2016</td>\n",
       "      <td>FY</td>\n",
       "      <td>-0.196726</td>\n",
       "      <td>0.071020</td>\n",
       "    </tr>\n",
       "    <tr>\n",
       "      <th>99</th>\n",
       "      <td>99</td>\n",
       "      <td>TSM</td>\n",
       "      <td>2015-12-31</td>\n",
       "      <td>2015</td>\n",
       "      <td>FY</td>\n",
       "      <td>-0.185629</td>\n",
       "      <td>0.082678</td>\n",
       "    </tr>\n",
       "  </tbody>\n",
       "</table>\n",
       "<p>100 rows × 7 columns</p>\n",
       "</div>"
      ],
      "text/plain": [
       "    Unnamed: 0 symbol        date  calendarYear period      roic  \\\n",
       "0            0   AAPL  2024-09-28          2024     FY  0.443071   \n",
       "1            1   AAPL  2023-09-30          2023     FY  0.433892   \n",
       "2            2   AAPL  2022-09-24          2022     FY  0.451748   \n",
       "3            3   AAPL  2021-09-25          2021     FY  0.389251   \n",
       "4            4   AAPL  2020-09-26          2020     FY  0.242695   \n",
       "..         ...    ...         ...           ...    ...       ...   \n",
       "95          95    TSM  2019-12-31          2019     FY  0.180743   \n",
       "96          96    TSM  2018-12-31          2018     FY  0.180925   \n",
       "97          97    TSM  2017-12-31          2017     FY  0.190271   \n",
       "98          98    TSM  2016-12-31          2016     FY -0.196726   \n",
       "99          99    TSM  2015-12-31          2015     FY -0.185629   \n",
       "\n",
       "    earningsYield  \n",
       "0        0.026819  \n",
       "1        0.035983  \n",
       "2        0.040913  \n",
       "3        0.038586  \n",
       "4        0.029467  \n",
       "..            ...  \n",
       "95       0.040227  \n",
       "96       0.061692  \n",
       "97       0.056912  \n",
       "98       0.071020  \n",
       "99       0.082678  \n",
       "\n",
       "[100 rows x 7 columns]"
      ]
     },
     "execution_count": 5,
     "metadata": {},
     "output_type": "execute_result"
    }
   ],
   "source": [
    "financial_data.head(100)"
   ]
  },
  {
   "cell_type": "code",
   "execution_count": 6,
   "metadata": {},
   "outputs": [
    {
     "data": {
      "text/html": [
       "<div>\n",
       "<style scoped>\n",
       "    .dataframe tbody tr th:only-of-type {\n",
       "        vertical-align: middle;\n",
       "    }\n",
       "\n",
       "    .dataframe tbody tr th {\n",
       "        vertical-align: top;\n",
       "    }\n",
       "\n",
       "    .dataframe thead th {\n",
       "        text-align: right;\n",
       "    }\n",
       "</style>\n",
       "<table border=\"1\" class=\"dataframe\">\n",
       "  <thead>\n",
       "    <tr style=\"text-align: right;\">\n",
       "      <th></th>\n",
       "      <th>Unnamed: 0</th>\n",
       "      <th>symbol</th>\n",
       "      <th>date</th>\n",
       "      <th>calendarYear</th>\n",
       "      <th>period</th>\n",
       "      <th>roic</th>\n",
       "      <th>earningsYield</th>\n",
       "    </tr>\n",
       "  </thead>\n",
       "  <tbody>\n",
       "    <tr>\n",
       "      <th>0</th>\n",
       "      <td>0</td>\n",
       "      <td>AAPL</td>\n",
       "      <td>2024-09-28</td>\n",
       "      <td>2024</td>\n",
       "      <td>FY</td>\n",
       "      <td>0.443071</td>\n",
       "      <td>0.026819</td>\n",
       "    </tr>\n",
       "    <tr>\n",
       "      <th>10</th>\n",
       "      <td>10</td>\n",
       "      <td>MSFT</td>\n",
       "      <td>2024-06-30</td>\n",
       "      <td>2024</td>\n",
       "      <td>FY</td>\n",
       "      <td>0.222731</td>\n",
       "      <td>0.025968</td>\n",
       "    </tr>\n",
       "    <tr>\n",
       "      <th>20</th>\n",
       "      <td>20</td>\n",
       "      <td>NVDA</td>\n",
       "      <td>2024-01-28</td>\n",
       "      <td>2024</td>\n",
       "      <td>FY</td>\n",
       "      <td>0.512868</td>\n",
       "      <td>0.019295</td>\n",
       "    </tr>\n",
       "    <tr>\n",
       "      <th>30</th>\n",
       "      <td>30</td>\n",
       "      <td>AMZN</td>\n",
       "      <td>2024-12-31</td>\n",
       "      <td>2024</td>\n",
       "      <td>FY</td>\n",
       "      <td>0.174774</td>\n",
       "      <td>0.025786</td>\n",
       "    </tr>\n",
       "    <tr>\n",
       "      <th>40</th>\n",
       "      <td>40</td>\n",
       "      <td>GOOG</td>\n",
       "      <td>2024-12-31</td>\n",
       "      <td>2024</td>\n",
       "      <td>FY</td>\n",
       "      <td>0.260052</td>\n",
       "      <td>0.042491</td>\n",
       "    </tr>\n",
       "    <tr>\n",
       "      <th>...</th>\n",
       "      <td>...</td>\n",
       "      <td>...</td>\n",
       "      <td>...</td>\n",
       "      <td>...</td>\n",
       "      <td>...</td>\n",
       "      <td>...</td>\n",
       "      <td>...</td>\n",
       "    </tr>\n",
       "    <tr>\n",
       "      <th>22266</th>\n",
       "      <td>22266</td>\n",
       "      <td>SONO</td>\n",
       "      <td>2024-09-28</td>\n",
       "      <td>2024</td>\n",
       "      <td>FY</td>\n",
       "      <td>-0.121035</td>\n",
       "      <td>-0.025480</td>\n",
       "    </tr>\n",
       "    <tr>\n",
       "      <th>22301</th>\n",
       "      <td>22301</td>\n",
       "      <td>GTY</td>\n",
       "      <td>2024-12-31</td>\n",
       "      <td>2024</td>\n",
       "      <td>FY</td>\n",
       "      <td>0.500709</td>\n",
       "      <td>0.043432</td>\n",
       "    </tr>\n",
       "    <tr>\n",
       "      <th>22332</th>\n",
       "      <td>22332</td>\n",
       "      <td>LKFN</td>\n",
       "      <td>2024-12-31</td>\n",
       "      <td>2024</td>\n",
       "      <td>FY</td>\n",
       "      <td>0.000000</td>\n",
       "      <td>0.052946</td>\n",
       "    </tr>\n",
       "    <tr>\n",
       "      <th>22382</th>\n",
       "      <td>22382</td>\n",
       "      <td>PHR</td>\n",
       "      <td>2024-01-31</td>\n",
       "      <td>2024</td>\n",
       "      <td>FY</td>\n",
       "      <td>-0.499802</td>\n",
       "      <td>-0.098462</td>\n",
       "    </tr>\n",
       "    <tr>\n",
       "      <th>22389</th>\n",
       "      <td>22389</td>\n",
       "      <td>PD</td>\n",
       "      <td>2024-01-31</td>\n",
       "      <td>2024</td>\n",
       "      <td>FY</td>\n",
       "      <td>-0.144577</td>\n",
       "      <td>-0.037389</td>\n",
       "    </tr>\n",
       "  </tbody>\n",
       "</table>\n",
       "<p>986 rows × 7 columns</p>\n",
       "</div>"
      ],
      "text/plain": [
       "       Unnamed: 0 symbol        date  calendarYear period      roic  \\\n",
       "0               0   AAPL  2024-09-28          2024     FY  0.443071   \n",
       "10             10   MSFT  2024-06-30          2024     FY  0.222731   \n",
       "20             20   NVDA  2024-01-28          2024     FY  0.512868   \n",
       "30             30   AMZN  2024-12-31          2024     FY  0.174774   \n",
       "40             40   GOOG  2024-12-31          2024     FY  0.260052   \n",
       "...           ...    ...         ...           ...    ...       ...   \n",
       "22266       22266   SONO  2024-09-28          2024     FY -0.121035   \n",
       "22301       22301    GTY  2024-12-31          2024     FY  0.500709   \n",
       "22332       22332   LKFN  2024-12-31          2024     FY  0.000000   \n",
       "22382       22382    PHR  2024-01-31          2024     FY -0.499802   \n",
       "22389       22389     PD  2024-01-31          2024     FY -0.144577   \n",
       "\n",
       "       earningsYield  \n",
       "0           0.026819  \n",
       "10          0.025968  \n",
       "20          0.019295  \n",
       "30          0.025786  \n",
       "40          0.042491  \n",
       "...              ...  \n",
       "22266      -0.025480  \n",
       "22301       0.043432  \n",
       "22332       0.052946  \n",
       "22382      -0.098462  \n",
       "22389      -0.037389  \n",
       "\n",
       "[986 rows x 7 columns]"
      ]
     },
     "execution_count": 6,
     "metadata": {},
     "output_type": "execute_result"
    }
   ],
   "source": [
    "financial_data.loc[financial_data[\"calendarYear\"]==2024]"
   ]
  },
  {
   "cell_type": "code",
   "execution_count": 7,
   "metadata": {},
   "outputs": [
    {
     "name": "stderr",
     "output_type": "stream",
     "text": [
      "C:\\Users\\PP124ZJ\\AppData\\Local\\Temp\\ipykernel_22300\\4189647929.py:19: DeprecationWarning: DataFrameGroupBy.apply operated on the grouping columns. This behavior is deprecated, and in a future version of pandas the grouping columns will be excluded from the operation. Either pass `include_groups=False` to exclude the groupings or explicitly select the grouping columns after groupby to silence this warning.\n",
      "  financial_data = financial_data.groupby(\"calendarYear\", group_keys=False).apply(rank_within_year)\n"
     ]
    }
   ],
   "source": [
    "# Function to apply ranking within each calendar year\n",
    "def rank_within_year(group):\n",
    "    group[\"roic_rank\"] = group[\"roic\"].rank(ascending=False, method=\"dense\")\n",
    "    group[\"earnings_yield_rank\"] = group[\"earningsYield\"].rank(ascending=False, method=\"dense\")\n",
    "    \n",
    "    # Fill NaN values with -1 (or 0) before converting to int\n",
    "    group[\"roic_rank\"] = group[\"roic_rank\"].fillna(-1).astype(int)\n",
    "    group[\"earnings_yield_rank\"] = group[\"earnings_yield_rank\"].fillna(-1).astype(int)\n",
    "    # Calculate f_rank (sum of rankings)\n",
    "    group[\"f_rank\"] = group[\"roic_rank\"] + group[\"earnings_yield_rank\"]\n",
    "\n",
    "    # **Re-rank f_rank to start at 1 within each calendar year**\n",
    "    group[\"f_rank\"] = group[\"f_rank\"].rank(method=\"dense\", ascending=True).astype(int)\n",
    "\n",
    "    \n",
    "    return group\n",
    "\n",
    "# Apply ranking within each `calendarYear`\n",
    "financial_data = financial_data.groupby(\"calendarYear\", group_keys=False).apply(rank_within_year)\n",
    "\n",
    "\n",
    "\n"
   ]
  },
  {
   "cell_type": "code",
   "execution_count": null,
   "metadata": {},
   "outputs": [
    {
     "data": {
      "text/html": [
       "<div>\n",
       "<style scoped>\n",
       "    .dataframe tbody tr th:only-of-type {\n",
       "        vertical-align: middle;\n",
       "    }\n",
       "\n",
       "    .dataframe tbody tr th {\n",
       "        vertical-align: top;\n",
       "    }\n",
       "\n",
       "    .dataframe thead th {\n",
       "        text-align: right;\n",
       "    }\n",
       "</style>\n",
       "<table border=\"1\" class=\"dataframe\">\n",
       "  <thead>\n",
       "    <tr style=\"text-align: right;\">\n",
       "      <th></th>\n",
       "      <th>Unnamed: 0</th>\n",
       "      <th>symbol</th>\n",
       "      <th>date</th>\n",
       "      <th>calendarYear</th>\n",
       "      <th>period</th>\n",
       "      <th>roic</th>\n",
       "      <th>earningsYield</th>\n",
       "      <th>roic_rank</th>\n",
       "      <th>earnings_yield_rank</th>\n",
       "      <th>f_rank</th>\n",
       "    </tr>\n",
       "  </thead>\n",
       "  <tbody>\n",
       "    <tr>\n",
       "      <th>3339</th>\n",
       "      <td>3339</td>\n",
       "      <td>PRH</td>\n",
       "      <td>2024-12-31</td>\n",
       "      <td>2024</td>\n",
       "      <td>FY</td>\n",
       "      <td>5.802831</td>\n",
       "      <td>0.304046</td>\n",
       "      <td>4</td>\n",
       "      <td>10</td>\n",
       "      <td>1</td>\n",
       "    </tr>\n",
       "    <tr>\n",
       "      <th>1527</th>\n",
       "      <td>1527</td>\n",
       "      <td>MO</td>\n",
       "      <td>2024-12-31</td>\n",
       "      <td>2024</td>\n",
       "      <td>FY</td>\n",
       "      <td>0.350172</td>\n",
       "      <td>0.125387</td>\n",
       "      <td>36</td>\n",
       "      <td>42</td>\n",
       "      <td>2</td>\n",
       "    </tr>\n",
       "    <tr>\n",
       "      <th>21042</th>\n",
       "      <td>21042</td>\n",
       "      <td>TSLX</td>\n",
       "      <td>2024-12-31</td>\n",
       "      <td>2024</td>\n",
       "      <td>FY</td>\n",
       "      <td>108.823162</td>\n",
       "      <td>0.095170</td>\n",
       "      <td>1</td>\n",
       "      <td>86</td>\n",
       "      <td>3</td>\n",
       "    </tr>\n",
       "    <tr>\n",
       "      <th>14010</th>\n",
       "      <td>14010</td>\n",
       "      <td>LEA</td>\n",
       "      <td>2024-12-31</td>\n",
       "      <td>2024</td>\n",
       "      <td>FY</td>\n",
       "      <td>10.962002</td>\n",
       "      <td>0.094682</td>\n",
       "      <td>2</td>\n",
       "      <td>89</td>\n",
       "      <td>4</td>\n",
       "    </tr>\n",
       "    <tr>\n",
       "      <th>5425</th>\n",
       "      <td>5425</td>\n",
       "      <td>BLL</td>\n",
       "      <td>2024-12-31</td>\n",
       "      <td>2024</td>\n",
       "      <td>FY</td>\n",
       "      <td>0.245121</td>\n",
       "      <td>0.238005</td>\n",
       "      <td>78</td>\n",
       "      <td>14</td>\n",
       "      <td>5</td>\n",
       "    </tr>\n",
       "    <tr>\n",
       "      <th>7015</th>\n",
       "      <td>7015</td>\n",
       "      <td>BALL</td>\n",
       "      <td>2024-12-31</td>\n",
       "      <td>2024</td>\n",
       "      <td>FY</td>\n",
       "      <td>0.245121</td>\n",
       "      <td>0.238005</td>\n",
       "      <td>78</td>\n",
       "      <td>14</td>\n",
       "      <td>5</td>\n",
       "    </tr>\n",
       "    <tr>\n",
       "      <th>13028</th>\n",
       "      <td>13028</td>\n",
       "      <td>CROX</td>\n",
       "      <td>2024-12-31</td>\n",
       "      <td>2024</td>\n",
       "      <td>FY</td>\n",
       "      <td>0.257511</td>\n",
       "      <td>0.146075</td>\n",
       "      <td>68</td>\n",
       "      <td>30</td>\n",
       "      <td>6</td>\n",
       "    </tr>\n",
       "    <tr>\n",
       "      <th>14833</th>\n",
       "      <td>14833</td>\n",
       "      <td>AB</td>\n",
       "      <td>2024-12-31</td>\n",
       "      <td>2024</td>\n",
       "      <td>FY</td>\n",
       "      <td>0.220598</td>\n",
       "      <td>0.277375</td>\n",
       "      <td>92</td>\n",
       "      <td>12</td>\n",
       "      <td>7</td>\n",
       "    </tr>\n",
       "    <tr>\n",
       "      <th>13038</th>\n",
       "      <td>13038</td>\n",
       "      <td>MGRB</td>\n",
       "      <td>2024-12-31</td>\n",
       "      <td>2024</td>\n",
       "      <td>FY</td>\n",
       "      <td>0.241291</td>\n",
       "      <td>0.128777</td>\n",
       "      <td>79</td>\n",
       "      <td>38</td>\n",
       "      <td>8</td>\n",
       "    </tr>\n",
       "    <tr>\n",
       "      <th>13197</th>\n",
       "      <td>13197</td>\n",
       "      <td>MGR</td>\n",
       "      <td>2024-12-31</td>\n",
       "      <td>2024</td>\n",
       "      <td>FY</td>\n",
       "      <td>0.241291</td>\n",
       "      <td>0.128777</td>\n",
       "      <td>79</td>\n",
       "      <td>38</td>\n",
       "      <td>8</td>\n",
       "    </tr>\n",
       "    <tr>\n",
       "      <th>13207</th>\n",
       "      <td>13207</td>\n",
       "      <td>MGRD</td>\n",
       "      <td>2024-12-31</td>\n",
       "      <td>2024</td>\n",
       "      <td>FY</td>\n",
       "      <td>0.241291</td>\n",
       "      <td>0.128777</td>\n",
       "      <td>79</td>\n",
       "      <td>38</td>\n",
       "      <td>8</td>\n",
       "    </tr>\n",
       "    <tr>\n",
       "      <th>13227</th>\n",
       "      <td>13227</td>\n",
       "      <td>MGRE</td>\n",
       "      <td>2024-12-31</td>\n",
       "      <td>2024</td>\n",
       "      <td>FY</td>\n",
       "      <td>0.241291</td>\n",
       "      <td>0.128777</td>\n",
       "      <td>79</td>\n",
       "      <td>38</td>\n",
       "      <td>8</td>\n",
       "    </tr>\n",
       "    <tr>\n",
       "      <th>13287</th>\n",
       "      <td>13287</td>\n",
       "      <td>AMG</td>\n",
       "      <td>2024-12-31</td>\n",
       "      <td>2024</td>\n",
       "      <td>FY</td>\n",
       "      <td>0.241291</td>\n",
       "      <td>0.128777</td>\n",
       "      <td>79</td>\n",
       "      <td>38</td>\n",
       "      <td>8</td>\n",
       "    </tr>\n",
       "    <tr>\n",
       "      <th>6324</th>\n",
       "      <td>6324</td>\n",
       "      <td>JBL</td>\n",
       "      <td>2024-08-31</td>\n",
       "      <td>2024</td>\n",
       "      <td>FY</td>\n",
       "      <td>0.281824</td>\n",
       "      <td>0.103769</td>\n",
       "      <td>56</td>\n",
       "      <td>67</td>\n",
       "      <td>9</td>\n",
       "    </tr>\n",
       "    <tr>\n",
       "      <th>2698</th>\n",
       "      <td>2698</td>\n",
       "      <td>FCX</td>\n",
       "      <td>2024-12-31</td>\n",
       "      <td>2024</td>\n",
       "      <td>FY</td>\n",
       "      <td>0.189729</td>\n",
       "      <td>0.172209</td>\n",
       "      <td>110</td>\n",
       "      <td>22</td>\n",
       "      <td>10</td>\n",
       "    </tr>\n",
       "    <tr>\n",
       "      <th>20402</th>\n",
       "      <td>20402</td>\n",
       "      <td>ATKR</td>\n",
       "      <td>2024-09-30</td>\n",
       "      <td>2024</td>\n",
       "      <td>FY</td>\n",
       "      <td>0.200398</td>\n",
       "      <td>0.149752</td>\n",
       "      <td>105</td>\n",
       "      <td>28</td>\n",
       "      <td>11</td>\n",
       "    </tr>\n",
       "    <tr>\n",
       "      <th>21528</th>\n",
       "      <td>21528</td>\n",
       "      <td>EMBCV</td>\n",
       "      <td>2024-09-30</td>\n",
       "      <td>2024</td>\n",
       "      <td>FY</td>\n",
       "      <td>0.319720</td>\n",
       "      <td>0.095035</td>\n",
       "      <td>46</td>\n",
       "      <td>87</td>\n",
       "      <td>11</td>\n",
       "    </tr>\n",
       "    <tr>\n",
       "      <th>16722</th>\n",
       "      <td>16722</td>\n",
       "      <td>SNEX</td>\n",
       "      <td>2024-09-30</td>\n",
       "      <td>2024</td>\n",
       "      <td>FY</td>\n",
       "      <td>0.254780</td>\n",
       "      <td>0.104297</td>\n",
       "      <td>71</td>\n",
       "      <td>64</td>\n",
       "      <td>12</td>\n",
       "    </tr>\n",
       "    <tr>\n",
       "      <th>5248</th>\n",
       "      <td>5248</td>\n",
       "      <td>PHM</td>\n",
       "      <td>2024-12-31</td>\n",
       "      <td>2024</td>\n",
       "      <td>FY</td>\n",
       "      <td>0.189346</td>\n",
       "      <td>0.134894</td>\n",
       "      <td>111</td>\n",
       "      <td>36</td>\n",
       "      <td>13</td>\n",
       "    </tr>\n",
       "    <tr>\n",
       "      <th>2528</th>\n",
       "      <td>2528</td>\n",
       "      <td>SLB</td>\n",
       "      <td>2024-12-31</td>\n",
       "      <td>2024</td>\n",
       "      <td>FY</td>\n",
       "      <td>0.440337</td>\n",
       "      <td>0.081882</td>\n",
       "      <td>27</td>\n",
       "      <td>136</td>\n",
       "      <td>14</td>\n",
       "    </tr>\n",
       "  </tbody>\n",
       "</table>\n",
       "</div>"
      ],
      "text/plain": [
       "       Unnamed: 0 symbol        date  calendarYear period        roic  \\\n",
       "3339         3339    PRH  2024-12-31          2024     FY    5.802831   \n",
       "1527         1527     MO  2024-12-31          2024     FY    0.350172   \n",
       "21042       21042   TSLX  2024-12-31          2024     FY  108.823162   \n",
       "14010       14010    LEA  2024-12-31          2024     FY   10.962002   \n",
       "5425         5425    BLL  2024-12-31          2024     FY    0.245121   \n",
       "7015         7015   BALL  2024-12-31          2024     FY    0.245121   \n",
       "13028       13028   CROX  2024-12-31          2024     FY    0.257511   \n",
       "14833       14833     AB  2024-12-31          2024     FY    0.220598   \n",
       "13038       13038   MGRB  2024-12-31          2024     FY    0.241291   \n",
       "13197       13197    MGR  2024-12-31          2024     FY    0.241291   \n",
       "13207       13207   MGRD  2024-12-31          2024     FY    0.241291   \n",
       "13227       13227   MGRE  2024-12-31          2024     FY    0.241291   \n",
       "13287       13287    AMG  2024-12-31          2024     FY    0.241291   \n",
       "6324         6324    JBL  2024-08-31          2024     FY    0.281824   \n",
       "2698         2698    FCX  2024-12-31          2024     FY    0.189729   \n",
       "20402       20402   ATKR  2024-09-30          2024     FY    0.200398   \n",
       "21528       21528  EMBCV  2024-09-30          2024     FY    0.319720   \n",
       "16722       16722   SNEX  2024-09-30          2024     FY    0.254780   \n",
       "5248         5248    PHM  2024-12-31          2024     FY    0.189346   \n",
       "2528         2528    SLB  2024-12-31          2024     FY    0.440337   \n",
       "\n",
       "       earningsYield  roic_rank  earnings_yield_rank  f_rank  \n",
       "3339        0.304046          4                   10       1  \n",
       "1527        0.125387         36                   42       2  \n",
       "21042       0.095170          1                   86       3  \n",
       "14010       0.094682          2                   89       4  \n",
       "5425        0.238005         78                   14       5  \n",
       "7015        0.238005         78                   14       5  \n",
       "13028       0.146075         68                   30       6  \n",
       "14833       0.277375         92                   12       7  \n",
       "13038       0.128777         79                   38       8  \n",
       "13197       0.128777         79                   38       8  \n",
       "13207       0.128777         79                   38       8  \n",
       "13227       0.128777         79                   38       8  \n",
       "13287       0.128777         79                   38       8  \n",
       "6324        0.103769         56                   67       9  \n",
       "2698        0.172209        110                   22      10  \n",
       "20402       0.149752        105                   28      11  \n",
       "21528       0.095035         46                   87      11  \n",
       "16722       0.104297         71                   64      12  \n",
       "5248        0.134894        111                   36      13  \n",
       "2528        0.081882         27                  136      14  "
      ]
     },
     "metadata": {},
     "output_type": "display_data"
    }
   ],
   "source": [
    "financial_data = financial_data.sort_values(by=[\"calendarYear\", \"f_rank\"], ascending=[False, True])\n",
    "display(financial_data.loc[financial_data[\"calendarYear\"]==2024].head(20))"
   ]
  },
  {
   "cell_type": "code",
   "execution_count": 9,
   "metadata": {},
   "outputs": [
    {
     "data": {
      "text/html": [
       "<div>\n",
       "<style scoped>\n",
       "    .dataframe tbody tr th:only-of-type {\n",
       "        vertical-align: middle;\n",
       "    }\n",
       "\n",
       "    .dataframe tbody tr th {\n",
       "        vertical-align: top;\n",
       "    }\n",
       "\n",
       "    .dataframe thead th {\n",
       "        text-align: right;\n",
       "    }\n",
       "</style>\n",
       "<table border=\"1\" class=\"dataframe\">\n",
       "  <thead>\n",
       "    <tr style=\"text-align: right;\">\n",
       "      <th></th>\n",
       "      <th>Unnamed: 0</th>\n",
       "      <th>symbol</th>\n",
       "      <th>date</th>\n",
       "      <th>calendarYear</th>\n",
       "      <th>period</th>\n",
       "      <th>roic</th>\n",
       "      <th>earningsYield</th>\n",
       "      <th>roic_rank</th>\n",
       "      <th>earnings_yield_rank</th>\n",
       "      <th>f_rank</th>\n",
       "    </tr>\n",
       "  </thead>\n",
       "  <tbody>\n",
       "    <tr>\n",
       "      <th>12237</th>\n",
       "      <td>12237</td>\n",
       "      <td>MTG</td>\n",
       "      <td>2015-12-31</td>\n",
       "      <td>2015</td>\n",
       "      <td>FY</td>\n",
       "      <td>0.386699</td>\n",
       "      <td>0.390895</td>\n",
       "      <td>24</td>\n",
       "      <td>10</td>\n",
       "      <td>1</td>\n",
       "    </tr>\n",
       "    <tr>\n",
       "      <th>9748</th>\n",
       "      <td>9748</td>\n",
       "      <td>HLNE</td>\n",
       "      <td>2015-03-31</td>\n",
       "      <td>2015</td>\n",
       "      <td>FY</td>\n",
       "      <td>0.352893</td>\n",
       "      <td>0.232443</td>\n",
       "      <td>31</td>\n",
       "      <td>25</td>\n",
       "      <td>2</td>\n",
       "    </tr>\n",
       "    <tr>\n",
       "      <th>3765</th>\n",
       "      <td>3765</td>\n",
       "      <td>UAL</td>\n",
       "      <td>2015-12-31</td>\n",
       "      <td>2015</td>\n",
       "      <td>FY</td>\n",
       "      <td>0.301535</td>\n",
       "      <td>0.340685</td>\n",
       "      <td>47</td>\n",
       "      <td>12</td>\n",
       "      <td>3</td>\n",
       "    </tr>\n",
       "    <tr>\n",
       "      <th>5573</th>\n",
       "      <td>5573</td>\n",
       "      <td>IHG</td>\n",
       "      <td>2015-12-31</td>\n",
       "      <td>2015</td>\n",
       "      <td>FY</td>\n",
       "      <td>0.459645</td>\n",
       "      <td>0.175186</td>\n",
       "      <td>16</td>\n",
       "      <td>48</td>\n",
       "      <td>4</td>\n",
       "    </tr>\n",
       "    <tr>\n",
       "      <th>8673</th>\n",
       "      <td>8673</td>\n",
       "      <td>AAL</td>\n",
       "      <td>2015-12-31</td>\n",
       "      <td>2015</td>\n",
       "      <td>FY</td>\n",
       "      <td>0.276126</td>\n",
       "      <td>0.268843</td>\n",
       "      <td>54</td>\n",
       "      <td>21</td>\n",
       "      <td>5</td>\n",
       "    </tr>\n",
       "    <tr>\n",
       "      <th>11554</th>\n",
       "      <td>11554</td>\n",
       "      <td>RMBS</td>\n",
       "      <td>2015-12-31</td>\n",
       "      <td>2015</td>\n",
       "      <td>FY</td>\n",
       "      <td>0.362673</td>\n",
       "      <td>0.158855</td>\n",
       "      <td>29</td>\n",
       "      <td>62</td>\n",
       "      <td>6</td>\n",
       "    </tr>\n",
       "    <tr>\n",
       "      <th>1104</th>\n",
       "      <td>1104</td>\n",
       "      <td>GILD</td>\n",
       "      <td>2015-12-31</td>\n",
       "      <td>2015</td>\n",
       "      <td>FY</td>\n",
       "      <td>0.432155</td>\n",
       "      <td>0.122234</td>\n",
       "      <td>19</td>\n",
       "      <td>100</td>\n",
       "      <td>7</td>\n",
       "    </tr>\n",
       "    <tr>\n",
       "      <th>14640</th>\n",
       "      <td>14640</td>\n",
       "      <td>LAZ</td>\n",
       "      <td>2015-12-31</td>\n",
       "      <td>2015</td>\n",
       "      <td>FY</td>\n",
       "      <td>0.249474</td>\n",
       "      <td>0.174804</td>\n",
       "      <td>74</td>\n",
       "      <td>49</td>\n",
       "      <td>8</td>\n",
       "    </tr>\n",
       "    <tr>\n",
       "      <th>13419</th>\n",
       "      <td>13419</td>\n",
       "      <td>DNB</td>\n",
       "      <td>2015-12-31</td>\n",
       "      <td>2015</td>\n",
       "      <td>FY</td>\n",
       "      <td>0.214041</td>\n",
       "      <td>0.223136</td>\n",
       "      <td>105</td>\n",
       "      <td>26</td>\n",
       "      <td>9</td>\n",
       "    </tr>\n",
       "    <tr>\n",
       "      <th>7534</th>\n",
       "      <td>7534</td>\n",
       "      <td>UNM</td>\n",
       "      <td>2015-12-31</td>\n",
       "      <td>2015</td>\n",
       "      <td>FY</td>\n",
       "      <td>2.175292</td>\n",
       "      <td>0.105453</td>\n",
       "      <td>3</td>\n",
       "      <td>138</td>\n",
       "      <td>10</td>\n",
       "    </tr>\n",
       "    <tr>\n",
       "      <th>14811</th>\n",
       "      <td>14811</td>\n",
       "      <td>AEL</td>\n",
       "      <td>2015-12-31</td>\n",
       "      <td>2015</td>\n",
       "      <td>FY</td>\n",
       "      <td>0.338672</td>\n",
       "      <td>0.115892</td>\n",
       "      <td>34</td>\n",
       "      <td>108</td>\n",
       "      <td>11</td>\n",
       "    </tr>\n",
       "    <tr>\n",
       "      <th>14266</th>\n",
       "      <td>14266</td>\n",
       "      <td>SANM</td>\n",
       "      <td>2015-10-03</td>\n",
       "      <td>2015</td>\n",
       "      <td>FY</td>\n",
       "      <td>0.195351</td>\n",
       "      <td>0.215769</td>\n",
       "      <td>128</td>\n",
       "      <td>27</td>\n",
       "      <td>12</td>\n",
       "    </tr>\n",
       "    <tr>\n",
       "      <th>20472</th>\n",
       "      <td>20472</td>\n",
       "      <td>LGND</td>\n",
       "      <td>2015-12-31</td>\n",
       "      <td>2015</td>\n",
       "      <td>FY</td>\n",
       "      <td>0.275773</td>\n",
       "      <td>0.119920</td>\n",
       "      <td>55</td>\n",
       "      <td>104</td>\n",
       "      <td>13</td>\n",
       "    </tr>\n",
       "    <tr>\n",
       "      <th>12321</th>\n",
       "      <td>12321</td>\n",
       "      <td>SLM</td>\n",
       "      <td>2015-12-31</td>\n",
       "      <td>2015</td>\n",
       "      <td>FY</td>\n",
       "      <td>3.022616</td>\n",
       "      <td>0.098850</td>\n",
       "      <td>2</td>\n",
       "      <td>160</td>\n",
       "      <td>14</td>\n",
       "    </tr>\n",
       "    <tr>\n",
       "      <th>12499</th>\n",
       "      <td>12499</td>\n",
       "      <td>SLMBP</td>\n",
       "      <td>2015-12-31</td>\n",
       "      <td>2015</td>\n",
       "      <td>FY</td>\n",
       "      <td>3.022616</td>\n",
       "      <td>0.098850</td>\n",
       "      <td>2</td>\n",
       "      <td>160</td>\n",
       "      <td>14</td>\n",
       "    </tr>\n",
       "    <tr>\n",
       "      <th>21096</th>\n",
       "      <td>21096</td>\n",
       "      <td>GBX</td>\n",
       "      <td>2015-08-31</td>\n",
       "      <td>2015</td>\n",
       "      <td>FY</td>\n",
       "      <td>0.203246</td>\n",
       "      <td>0.164267</td>\n",
       "      <td>118</td>\n",
       "      <td>53</td>\n",
       "      <td>15</td>\n",
       "    </tr>\n",
       "    <tr>\n",
       "      <th>20022</th>\n",
       "      <td>20022</td>\n",
       "      <td>BKE</td>\n",
       "      <td>2016-01-30</td>\n",
       "      <td>2015</td>\n",
       "      <td>FY</td>\n",
       "      <td>0.309577</td>\n",
       "      <td>0.107789</td>\n",
       "      <td>42</td>\n",
       "      <td>135</td>\n",
       "      <td>16</td>\n",
       "    </tr>\n",
       "    <tr>\n",
       "      <th>8703</th>\n",
       "      <td>8703</td>\n",
       "      <td>PPC</td>\n",
       "      <td>2015-12-27</td>\n",
       "      <td>2015</td>\n",
       "      <td>FY</td>\n",
       "      <td>0.271921</td>\n",
       "      <td>0.110930</td>\n",
       "      <td>57</td>\n",
       "      <td>122</td>\n",
       "      <td>17</td>\n",
       "    </tr>\n",
       "    <tr>\n",
       "      <th>1870</th>\n",
       "      <td>1870</td>\n",
       "      <td>GSK</td>\n",
       "      <td>2015-12-31</td>\n",
       "      <td>2015</td>\n",
       "      <td>FY</td>\n",
       "      <td>0.198605</td>\n",
       "      <td>0.157133</td>\n",
       "      <td>124</td>\n",
       "      <td>66</td>\n",
       "      <td>18</td>\n",
       "    </tr>\n",
       "    <tr>\n",
       "      <th>14098</th>\n",
       "      <td>14098</td>\n",
       "      <td>RDN</td>\n",
       "      <td>2015-12-31</td>\n",
       "      <td>2015</td>\n",
       "      <td>FY</td>\n",
       "      <td>0.269332</td>\n",
       "      <td>0.107189</td>\n",
       "      <td>58</td>\n",
       "      <td>136</td>\n",
       "      <td>19</td>\n",
       "    </tr>\n",
       "  </tbody>\n",
       "</table>\n",
       "</div>"
      ],
      "text/plain": [
       "       Unnamed: 0 symbol        date  calendarYear period      roic  \\\n",
       "12237       12237    MTG  2015-12-31          2015     FY  0.386699   \n",
       "9748         9748   HLNE  2015-03-31          2015     FY  0.352893   \n",
       "3765         3765    UAL  2015-12-31          2015     FY  0.301535   \n",
       "5573         5573    IHG  2015-12-31          2015     FY  0.459645   \n",
       "8673         8673    AAL  2015-12-31          2015     FY  0.276126   \n",
       "11554       11554   RMBS  2015-12-31          2015     FY  0.362673   \n",
       "1104         1104   GILD  2015-12-31          2015     FY  0.432155   \n",
       "14640       14640    LAZ  2015-12-31          2015     FY  0.249474   \n",
       "13419       13419    DNB  2015-12-31          2015     FY  0.214041   \n",
       "7534         7534    UNM  2015-12-31          2015     FY  2.175292   \n",
       "14811       14811    AEL  2015-12-31          2015     FY  0.338672   \n",
       "14266       14266   SANM  2015-10-03          2015     FY  0.195351   \n",
       "20472       20472   LGND  2015-12-31          2015     FY  0.275773   \n",
       "12321       12321    SLM  2015-12-31          2015     FY  3.022616   \n",
       "12499       12499  SLMBP  2015-12-31          2015     FY  3.022616   \n",
       "21096       21096    GBX  2015-08-31          2015     FY  0.203246   \n",
       "20022       20022    BKE  2016-01-30          2015     FY  0.309577   \n",
       "8703         8703    PPC  2015-12-27          2015     FY  0.271921   \n",
       "1870         1870    GSK  2015-12-31          2015     FY  0.198605   \n",
       "14098       14098    RDN  2015-12-31          2015     FY  0.269332   \n",
       "\n",
       "       earningsYield  roic_rank  earnings_yield_rank  f_rank  \n",
       "12237       0.390895         24                   10       1  \n",
       "9748        0.232443         31                   25       2  \n",
       "3765        0.340685         47                   12       3  \n",
       "5573        0.175186         16                   48       4  \n",
       "8673        0.268843         54                   21       5  \n",
       "11554       0.158855         29                   62       6  \n",
       "1104        0.122234         19                  100       7  \n",
       "14640       0.174804         74                   49       8  \n",
       "13419       0.223136        105                   26       9  \n",
       "7534        0.105453          3                  138      10  \n",
       "14811       0.115892         34                  108      11  \n",
       "14266       0.215769        128                   27      12  \n",
       "20472       0.119920         55                  104      13  \n",
       "12321       0.098850          2                  160      14  \n",
       "12499       0.098850          2                  160      14  \n",
       "21096       0.164267        118                   53      15  \n",
       "20022       0.107789         42                  135      16  \n",
       "8703        0.110930         57                  122      17  \n",
       "1870        0.157133        124                   66      18  \n",
       "14098       0.107189         58                  136      19  "
      ]
     },
     "metadata": {},
     "output_type": "display_data"
    }
   ],
   "source": [
    "display(financial_data.loc[financial_data[\"calendarYear\"]==2015].head(20))"
   ]
  },
  {
   "cell_type": "markdown",
   "metadata": {},
   "source": [
    "HERE WE ARE GOING TO CALCULATE THE YIELD RATE IF WE BUY THE 20 BEST RANKED STOCKS AT THE BEGINNING OF EACH YEAR AND SELL AT THE BEGINNING OF NEXT YEAR"
   ]
  },
  {
   "cell_type": "code",
   "execution_count": null,
   "metadata": {},
   "outputs": [
    {
     "name": "stdout",
     "output_type": "stream",
     "text": [
      "2016-01-11\n"
     ]
    }
   ],
   "source": [
    "'''from datetime import date, timedelta\n",
    "\n",
    "def second_monday(year):\n",
    "    # Start from the first day of the year\n",
    "    first_day = date(year, 1, 1)\n",
    "\n",
    "    # Find the first Monday\n",
    "    first_monday = first_day + timedelta(days=(7 - first_day.weekday()) % 7)\n",
    "\n",
    "    # Calculate the second Monday\n",
    "    second_monday = first_monday + timedelta(weeks=1)\n",
    "\n",
    "    # Return the formatted date\n",
    "    return second_monday.strftime(\"%Y-%m-%d\")\n",
    "\n",
    "# Example: Get the second Monday of 2024\n",
    "print(second_monday(2016))'''"
   ]
  },
  {
   "cell_type": "code",
   "execution_count": 39,
   "metadata": {},
   "outputs": [],
   "source": [
    "financial_data_top_20=financial_data.loc[financial_data[\"f_rank\"]<26]"
   ]
  },
  {
   "cell_type": "code",
   "execution_count": 40,
   "metadata": {},
   "outputs": [
    {
     "data": {
      "text/html": [
       "<div>\n",
       "<style scoped>\n",
       "    .dataframe tbody tr th:only-of-type {\n",
       "        vertical-align: middle;\n",
       "    }\n",
       "\n",
       "    .dataframe tbody tr th {\n",
       "        vertical-align: top;\n",
       "    }\n",
       "\n",
       "    .dataframe thead th {\n",
       "        text-align: right;\n",
       "    }\n",
       "</style>\n",
       "<table border=\"1\" class=\"dataframe\">\n",
       "  <thead>\n",
       "    <tr style=\"text-align: right;\">\n",
       "      <th></th>\n",
       "      <th>date</th>\n",
       "      <th>open</th>\n",
       "      <th>high</th>\n",
       "      <th>low</th>\n",
       "      <th>close</th>\n",
       "      <th>adjClose</th>\n",
       "      <th>volume</th>\n",
       "      <th>unadjustedVolume</th>\n",
       "      <th>change</th>\n",
       "      <th>changePercent</th>\n",
       "      <th>vwap</th>\n",
       "      <th>label</th>\n",
       "      <th>changeOverTime</th>\n",
       "    </tr>\n",
       "  </thead>\n",
       "  <tbody>\n",
       "    <tr>\n",
       "      <th>0</th>\n",
       "      <td>2023-12-29</td>\n",
       "      <td>42.39</td>\n",
       "      <td>42.69</td>\n",
       "      <td>42.02</td>\n",
       "      <td>42.31</td>\n",
       "      <td>39.02</td>\n",
       "      <td>154533</td>\n",
       "      <td>154533</td>\n",
       "      <td>-0.08</td>\n",
       "      <td>-0.18872</td>\n",
       "      <td>42.3525</td>\n",
       "      <td>December 29, 23</td>\n",
       "      <td>-0.001887</td>\n",
       "    </tr>\n",
       "  </tbody>\n",
       "</table>\n",
       "</div>"
      ],
      "text/plain": [
       "         date   open   high    low  close  adjClose  volume  unadjustedVolume  \\\n",
       "0  2023-12-29  42.39  42.69  42.02  42.31     39.02  154533            154533   \n",
       "\n",
       "   change  changePercent     vwap            label  changeOverTime  \n",
       "0   -0.08       -0.18872  42.3525  December 29, 23       -0.001887  "
      ]
     },
     "execution_count": 40,
     "metadata": {},
     "output_type": "execute_result"
    }
   ],
   "source": [
    "pd.DataFrame(fmpsdk.historical_price_full(apikey=API_KEY, symbol=\"CNA\", from_date=\"2023-12-29\", to_date=\"2023-12-29\"))"
   ]
  },
  {
   "cell_type": "code",
   "execution_count": 41,
   "metadata": {},
   "outputs": [
    {
     "name": "stdout",
     "output_type": "stream",
     "text": [
      "Fetching data for GPOR on 2024-01-02 and 2024-12-30\n",
      "Fetching data for FIHL on 2024-01-02 and 2024-12-30\n",
      "Fetching data for CALM on 2023-06-05 and 2024-06-03\n",
      "Fetching data for APA on 2024-01-02 and 2024-12-30\n",
      "Fetching data for FINV on 2024-01-02 and 2024-12-30\n",
      "Fetching data for SPNT on 2024-01-02 and 2024-12-30\n",
      "Fetching data for LNG on 2024-01-02 and 2024-12-30\n",
      "Fetching data for CEIX on 2024-01-02 and 2024-12-30\n",
      "Fetching data for NOG on 2024-01-02 and 2024-12-30\n",
      "Fetching data for CVI on 2024-01-02 and 2024-12-30\n",
      "Fetching data for ARLP on 2024-01-02 and 2024-12-30\n",
      "Fetching data for TRMD on 2024-01-02 and 2024-12-30\n",
      "Fetching data for INSW on 2024-01-02 and 2024-12-30\n",
      "Fetching data for FMC on 2024-01-02 and 2024-12-30\n",
      "Fetching data for AMR on 2024-01-02 and 2024-12-30\n",
      "Fetching data for BWLP on 2024-01-02 and 2024-12-30\n",
      "Fetching data for OGN on 2024-01-02 and 2024-12-30\n",
      "Fetching data for PBF on 2024-01-02 and 2024-12-30\n",
      "Fetching data for HAFN on 2024-01-02 and 2024-12-30\n"
     ]
    },
    {
     "name": "stderr",
     "output_type": "stream",
     "text": [
      "WARNING:root:Response appears to have no data.  Returning empty List.\n"
     ]
    },
    {
     "name": "stdout",
     "output_type": "stream",
     "text": [
      "Fetching data for AGO on 2024-01-02 and 2024-12-30\n",
      "Fetching data for HG on 2024-01-02 and 2024-12-30\n",
      "Fetching data for CPE on 2024-01-02 and 2024-12-30\n"
     ]
    },
    {
     "name": "stderr",
     "output_type": "stream",
     "text": [
      "WARNING:root:Response appears to have no data.  Returning empty List.\n"
     ]
    },
    {
     "name": "stdout",
     "output_type": "stream",
     "text": [
      "Fetching data for ERF on 2024-01-02 and 2024-12-30\n"
     ]
    },
    {
     "name": "stderr",
     "output_type": "stream",
     "text": [
      "WARNING:root:Response appears to have no data.  Returning empty List.\n"
     ]
    },
    {
     "name": "stdout",
     "output_type": "stream",
     "text": [
      "Fetching data for ADX on 2024-01-02 and 2024-12-30\n",
      "Fetching data for LBRT on 2024-01-02 and 2024-12-30\n",
      "Fetching data for VC on 2024-01-02 and 2024-12-30\n",
      "Fetching data for AMR on 2023-01-03 and 2024-01-02\n",
      "Fetching data for ARCH on 2023-01-03 and 2024-01-02\n",
      "Fetching data for ZIM on 2023-01-03 and 2024-01-02\n",
      "Fetching data for GPOR on 2023-01-03 and 2024-01-02\n",
      "Fetching data for PBF on 2023-01-03 and 2024-01-02\n",
      "Fetching data for EXE on 2023-01-03 and 2024-01-02\n",
      "Fetching data for CHK on 2023-01-03 and 2024-01-02\n",
      "Fetching data for SWN on 2023-01-03 and 2024-01-02\n",
      "Fetching data for GTX on 2023-01-03 and 2024-01-02\n",
      "Fetching data for INGM on 2023-01-03 and 2024-01-02\n"
     ]
    },
    {
     "name": "stderr",
     "output_type": "stream",
     "text": [
      "WARNING:root:Response appears to have no data.  Returning empty List.\n",
      "WARNING:root:Response appears to have no data.  Returning empty List.\n"
     ]
    },
    {
     "name": "stdout",
     "output_type": "stream",
     "text": [
      "Fetching data for AEL on 2023-01-03 and 2024-01-02\n",
      "Fetching data for CRK on 2023-01-03 and 2024-01-02\n",
      "Fetching data for HCC on 2023-01-03 and 2024-01-02\n",
      "Fetching data for BNTX on 2023-01-03 and 2024-01-02\n",
      "Fetching data for ATKR on 2022-09-30 and 2023-10-02\n",
      "Fetching data for CPE on 2023-01-03 and 2024-01-02\n",
      "Fetching data for WIRE on 2023-01-03 and 2024-01-02\n",
      "Fetching data for ESTE on 2023-01-03 and 2024-01-02\n"
     ]
    },
    {
     "name": "stderr",
     "output_type": "stream",
     "text": [
      "WARNING:root:Response appears to have no data.  Returning empty List.\n"
     ]
    },
    {
     "name": "stdout",
     "output_type": "stream",
     "text": [
      "Fetching data for BIPC on 2023-01-03 and 2024-01-02\n",
      "Fetching data for NOG on 2023-01-03 and 2024-01-02\n",
      "Fetching data for CHRD on 2023-01-03 and 2024-01-02\n",
      "Fetching data for OAS on 2023-01-03 and 2024-01-02\n"
     ]
    },
    {
     "name": "stderr",
     "output_type": "stream",
     "text": [
      "WARNING:root:Response appears to have no data.  Returning empty List.\n",
      "WARNING:root:Response appears to have no data.  Returning empty List.\n"
     ]
    },
    {
     "name": "stdout",
     "output_type": "stream",
     "text": [
      "Fetching data for BCC on 2023-01-03 and 2024-01-02\n",
      "Fetching data for ERF on 2023-01-03 and 2024-01-02\n",
      "Fetching data for BTU on 2023-01-03 and 2024-01-02\n",
      "Fetching data for LPX on 2023-01-03 and 2024-01-02\n",
      "Fetching data for ARLP on 2023-01-03 and 2024-01-02\n",
      "Fetching data for MATX on 2023-01-03 and 2024-01-02\n",
      "Fetching data for NLY on 2023-01-03 and 2024-01-02\n",
      "Fetching data for AGIO on 2021-12-31 and 2023-01-03\n",
      "Fetching data for ZIM on 2021-12-31 and 2023-01-03\n",
      "Fetching data for GTX on 2021-12-31 and 2023-01-03\n",
      "Fetching data for TGS on 2021-12-31 and 2023-01-03\n",
      "Fetching data for UWMC on 2021-12-31 and 2023-01-03\n",
      "Fetching data for X on 2021-12-31 and 2023-01-03\n",
      "Fetching data for TPG on 2021-12-31 and 2023-01-03\n"
     ]
    },
    {
     "name": "stderr",
     "output_type": "stream",
     "text": [
      "WARNING:root:Response appears to have no data.  Returning empty List.\n"
     ]
    },
    {
     "name": "stdout",
     "output_type": "stream",
     "text": [
      "Fetching data for STEP on 2021-03-31 and 2022-03-31\n",
      "Fetching data for BNTX on 2021-12-31 and 2023-01-03\n",
      "Fetching data for BCC on 2021-12-31 and 2023-01-03\n",
      "Fetching data for VALE on 2021-12-31 and 2023-01-03\n",
      "Fetching data for LBTYB on 2021-12-31 and 2023-01-03\n",
      "Fetching data for LBTYK on 2021-12-31 and 2023-01-03\n",
      "Fetching data for LBTYA on 2021-12-31 and 2023-01-03\n",
      "Fetching data for EXE on 2021-12-31 and 2023-01-03\n",
      "Fetching data for CHK on 2021-12-31 and 2023-01-03\n",
      "Fetching data for SWN on 2021-12-31 and 2023-01-03\n",
      "Fetching data for QFIN on 2021-12-31 and 2023-01-03\n",
      "Fetching data for WOR on 2021-06-01 and 2022-05-31\n",
      "Fetching data for MT on 2021-12-31 and 2023-01-03\n",
      "Fetching data for LPX on 2021-12-31 and 2023-01-03\n",
      "Fetching data for WFG on 2021-12-31 and 2023-01-03\n",
      "Fetching data for BAK on 2021-12-31 and 2023-01-03\n",
      "Fetching data for GGB on 2021-12-31 and 2023-01-03\n",
      "Fetching data for STLD on 2021-12-31 and 2023-01-03\n",
      "Fetching data for CRC on 2021-12-31 and 2023-01-03\n",
      "Fetching data for WIRE on 2021-12-31 and 2023-01-03\n",
      "Fetching data for RQI on 2021-12-31 and 2023-01-03\n",
      "Fetching data for HPQ on 2021-11-01 and 2022-10-31\n",
      "Fetching data for NUE on 2021-12-31 and 2023-01-03\n",
      "Fetching data for SNEX on 2021-09-30 and 2022-09-30\n",
      "Fetching data for OXLCN on 2021-03-31 and 2022-03-31\n"
     ]
    },
    {
     "name": "stderr",
     "output_type": "stream",
     "text": [
      "WARNING:root:Response appears to have no data.  Returning empty List.\n",
      "WARNING:root:Response appears to have no data.  Returning empty List.\n"
     ]
    },
    {
     "name": "stdout",
     "output_type": "stream",
     "text": [
      "Fetching data for OXLCP on 2021-03-31 and 2022-03-31\n",
      "Fetching data for OXLCZ on 2021-03-31 and 2022-03-31\n"
     ]
    },
    {
     "name": "stderr",
     "output_type": "stream",
     "text": [
      "WARNING:root:Response appears to have no data.  Returning empty List.\n"
     ]
    },
    {
     "name": "stdout",
     "output_type": "stream",
     "text": [
      "Fetching data for OXLCO on 2021-03-31 and 2022-03-31\n",
      "Fetching data for OXLCL on 2021-03-31 and 2022-03-31\n",
      "Fetching data for OXLC on 2021-03-31 and 2022-03-31\n",
      "Fetching data for ZIM on 2020-12-31 and 2021-12-31\n"
     ]
    },
    {
     "name": "stderr",
     "output_type": "stream",
     "text": [
      "WARNING:root:Response appears to have no data.  Returning empty List.\n"
     ]
    },
    {
     "name": "stdout",
     "output_type": "stream",
     "text": [
      "Fetching data for SNEX on 2020-09-30 and 2021-09-30\n",
      "Fetching data for CPRX on 2020-12-31 and 2021-12-31\n",
      "Fetching data for QFIN on 2020-12-31 and 2021-12-31\n",
      "Fetching data for EMBCV on 2020-09-30 and 2021-09-30\n"
     ]
    },
    {
     "name": "stderr",
     "output_type": "stream",
     "text": [
      "WARNING:root:Response appears to have no data.  Returning empty List.\n",
      "WARNING:root:Response appears to have no data.  Returning empty List.\n"
     ]
    },
    {
     "name": "stdout",
     "output_type": "stream",
     "text": [
      "Fetching data for STEP on 2020-03-31 and 2021-03-31\n"
     ]
    },
    {
     "name": "stderr",
     "output_type": "stream",
     "text": [
      "WARNING:root:Response appears to have no data.  Returning empty List.\n"
     ]
    },
    {
     "name": "stdout",
     "output_type": "stream",
     "text": [
      "Fetching data for OGN on 2020-12-31 and 2021-12-31\n"
     ]
    },
    {
     "name": "stderr",
     "output_type": "stream",
     "text": [
      "WARNING:root:Response appears to have no data.  Returning empty List.\n"
     ]
    },
    {
     "name": "stdout",
     "output_type": "stream",
     "text": [
      "Fetching data for CEPU on 2020-12-31 and 2021-12-31\n",
      "Fetching data for SBSW on 2020-12-31 and 2021-12-31\n",
      "Fetching data for WTM on 2020-12-31 and 2021-12-31\n",
      "Fetching data for DHT on 2020-12-31 and 2021-12-31\n",
      "Fetching data for QDEL on 2020-12-31 and 2021-12-31\n",
      "Fetching data for APAM on 2020-12-31 and 2021-12-31\n",
      "Fetching data for MRVL on 2020-01-31 and 2021-02-01\n",
      "Fetching data for LPX on 2020-12-31 and 2021-12-31\n",
      "Fetching data for HPQ on 2020-11-02 and 2021-11-01\n",
      "Fetching data for BRBR on 2020-09-30 and 2021-09-30\n",
      "Fetching data for VMW on 2020-01-31 and 2021-02-01\n",
      "Fetching data for NXT on 2020-03-31 and 2021-03-31\n"
     ]
    },
    {
     "name": "stderr",
     "output_type": "stream",
     "text": [
      "WARNING:root:Response appears to have no data.  Returning empty List.\n",
      "WARNING:root:Response appears to have no data.  Returning empty List.\n"
     ]
    },
    {
     "name": "stdout",
     "output_type": "stream",
     "text": [
      "Fetching data for FINV on 2020-12-31 and 2021-12-31\n",
      "Fetching data for OXLCI on 2021-03-31 and 2022-03-31\n"
     ]
    },
    {
     "name": "stderr",
     "output_type": "stream",
     "text": [
      "WARNING:root:Response appears to have no data.  Returning empty List.\n",
      "WARNING:root:Response appears to have no data.  Returning empty List.\n"
     ]
    },
    {
     "name": "stdout",
     "output_type": "stream",
     "text": [
      "Fetching data for EA on 2020-03-31 and 2021-03-31\n",
      "Fetching data for DKL on 2020-12-31 and 2021-12-31\n",
      "Fetching data for TPG on 2020-12-31 and 2021-12-31\n"
     ]
    },
    {
     "name": "stderr",
     "output_type": "stream",
     "text": [
      "WARNING:root:Response appears to have no data.  Returning empty List.\n",
      "WARNING:root:Response appears to have no data.  Returning empty List.\n"
     ]
    },
    {
     "name": "stdout",
     "output_type": "stream",
     "text": [
      "Fetching data for EDN on 2019-12-31 and 2020-12-30\n",
      "Fetching data for NRG on 2019-12-31 and 2020-12-30\n",
      "Fetching data for UWMC on 2019-12-31 and 2020-12-30\n"
     ]
    },
    {
     "name": "stderr",
     "output_type": "stream",
     "text": [
      "WARNING:root:Response appears to have no data.  Returning empty List.\n"
     ]
    },
    {
     "name": "stdout",
     "output_type": "stream",
     "text": [
      "Fetching data for CGABL on 2019-12-31 and 2020-12-30\n"
     ]
    },
    {
     "name": "stderr",
     "output_type": "stream",
     "text": [
      "WARNING:root:Response appears to have no data.  Returning empty List.\n",
      "WARNING:root:Response appears to have no data.  Returning empty List.\n"
     ]
    },
    {
     "name": "stdout",
     "output_type": "stream",
     "text": [
      "Fetching data for GTX on 2019-12-31 and 2020-12-30\n",
      "Fetching data for OGN on 2019-12-31 and 2020-12-30\n"
     ]
    },
    {
     "name": "stderr",
     "output_type": "stream",
     "text": [
      "WARNING:root:Response appears to have no data.  Returning empty List.\n",
      "WARNING:root:Response appears to have no data.  Returning empty List.\n"
     ]
    },
    {
     "name": "stdout",
     "output_type": "stream",
     "text": [
      "Fetching data for CEPU on 2019-12-31 and 2020-12-30\n",
      "Fetching data for TGS on 2019-12-31 and 2020-12-30\n",
      "Fetching data for QFIN on 2019-12-31 and 2020-12-30\n",
      "Fetching data for EMBCV on 2019-09-30 and 2020-09-29\n"
     ]
    },
    {
     "name": "stderr",
     "output_type": "stream",
     "text": [
      "WARNING:root:Response appears to have no data.  Returning empty List.\n",
      "WARNING:root:Response appears to have no data.  Returning empty List.\n"
     ]
    },
    {
     "name": "stdout",
     "output_type": "stream",
     "text": [
      "Fetching data for REGI on 2019-12-31 and 2020-12-30\n",
      "Fetching data for FINV on 2019-12-31 and 2020-12-30\n",
      "Fetching data for MMAC on 2019-12-31 and 2020-12-30\n",
      "Fetching data for HCC on 2019-12-31 and 2020-12-30\n",
      "Fetching data for APAM on 2019-12-31 and 2020-12-30\n",
      "Fetching data for CLM on 2019-12-31 and 2020-12-30\n",
      "Fetching data for STX on 2019-06-28 and 2020-06-29\n",
      "Fetching data for HPQ on 2019-10-31 and 2020-10-30\n",
      "Fetching data for BRBR on 2019-09-30 and 2020-09-29\n"
     ]
    },
    {
     "name": "stderr",
     "output_type": "stream",
     "text": [
      "WARNING:root:Response appears to have no data.  Returning empty List.\n"
     ]
    },
    {
     "name": "stdout",
     "output_type": "stream",
     "text": [
      "Fetching data for RQI on 2019-12-31 and 2020-12-30\n",
      "Fetching data for RKT on 2019-12-31 and 2020-12-30\n"
     ]
    },
    {
     "name": "stderr",
     "output_type": "stream",
     "text": [
      "WARNING:root:Response appears to have no data.  Returning empty List.\n"
     ]
    },
    {
     "name": "stdout",
     "output_type": "stream",
     "text": [
      "Fetching data for GCMG on 2019-12-31 and 2020-12-30\n",
      "Fetching data for UTF on 2019-12-31 and 2020-12-30\n",
      "Fetching data for GTES on 2019-12-30 and 2020-12-28\n",
      "Fetching data for TY on 2019-12-31 and 2020-12-30\n",
      "Fetching data for OMF on 2019-12-31 and 2020-12-30\n",
      "Fetching data for GTX on 2018-12-31 and 2019-12-31\n",
      "Fetching data for HCC on 2018-12-31 and 2019-12-31\n",
      "Fetching data for CLF on 2018-12-31 and 2019-12-31\n",
      "Fetching data for AM on 2018-12-31 and 2019-12-31\n",
      "Fetching data for SSPK on 2018-12-31 and 2019-12-31\n"
     ]
    },
    {
     "name": "stderr",
     "output_type": "stream",
     "text": [
      "WARNING:root:Response appears to have no data.  Returning empty List.\n"
     ]
    },
    {
     "name": "stdout",
     "output_type": "stream",
     "text": [
      "Fetching data for NOG on 2018-12-31 and 2019-12-31\n",
      "Fetching data for MU on 2018-08-30 and 2019-08-30\n",
      "Fetching data for AEL on 2018-12-31 and 2019-12-31\n",
      "Fetching data for REGI on 2018-12-31 and 2019-12-31\n",
      "Fetching data for REZI on 2018-12-31 and 2019-12-31\n",
      "Fetching data for APAM on 2018-12-31 and 2019-12-31\n",
      "Fetching data for OGN on 2018-12-31 and 2019-12-31\n"
     ]
    },
    {
     "name": "stderr",
     "output_type": "stream",
     "text": [
      "WARNING:root:Response appears to have no data.  Returning empty List.\n",
      "WARNING:root:Response appears to have no data.  Returning empty List.\n"
     ]
    },
    {
     "name": "stdout",
     "output_type": "stream",
     "text": [
      "Fetching data for HPQ on 2018-10-31 and 2019-10-31\n",
      "Fetching data for STRDW on 2018-12-31 and 2019-12-31\n"
     ]
    },
    {
     "name": "stderr",
     "output_type": "stream",
     "text": [
      "WARNING:root:Response appears to have no data.  Returning empty List.\n",
      "WARNING:root:Response appears to have no data.  Returning empty List.\n"
     ]
    },
    {
     "name": "stdout",
     "output_type": "stream",
     "text": [
      "Fetching data for GCMG on 2018-12-31 and 2019-12-31\n"
     ]
    },
    {
     "name": "stderr",
     "output_type": "stream",
     "text": [
      "WARNING:root:Response appears to have no data.  Returning empty List.\n"
     ]
    },
    {
     "name": "stdout",
     "output_type": "stream",
     "text": [
      "Fetching data for AMP on 2018-12-31 and 2019-12-31\n",
      "Fetching data for ARCH on 2018-12-31 and 2019-12-31\n",
      "Fetching data for TBBK on 2018-12-31 and 2019-12-31\n",
      "Fetching data for PRU on 2018-12-31 and 2019-12-31\n",
      "Fetching data for MMAC on 2018-12-31 and 2019-12-31\n",
      "Fetching data for AVGO on 2018-11-05 and 2019-11-04\n",
      "Fetching data for EXEL on 2018-12-28 and 2019-12-30\n",
      "Fetching data for BRBR on 2018-10-01 and 2019-09-30\n"
     ]
    },
    {
     "name": "stderr",
     "output_type": "stream",
     "text": [
      "WARNING:root:Response appears to have no data.  Returning empty List.\n",
      "WARNING:root:Response appears to have no data.  Returning empty List.\n"
     ]
    },
    {
     "name": "stdout",
     "output_type": "stream",
     "text": [
      "Fetching data for STLD on 2018-12-31 and 2019-12-31\n",
      "Fetching data for X on 2018-12-31 and 2019-12-31\n",
      "Fetching data for CC on 2018-12-31 and 2019-12-31\n",
      "Fetching data for AMR on 2018-12-31 and 2019-12-31\n",
      "Fetching data for ISEE on 2018-01-02 and 2018-12-31\n",
      "Fetching data for MDCA on 2018-01-02 and 2018-12-31\n",
      "Fetching data for CIEN on 2017-10-31 and 2018-10-31\n",
      "Fetching data for HCC on 2018-01-02 and 2018-12-31\n",
      "Fetching data for STGW on 2018-01-02 and 2018-12-31\n",
      "Fetching data for PENN on 2018-01-02 and 2018-12-31\n",
      "Fetching data for PK on 2018-01-02 and 2018-12-31\n",
      "Fetching data for AMR on 2018-01-02 and 2018-12-31\n",
      "Fetching data for CLF on 2018-01-02 and 2018-12-31\n",
      "Fetching data for LNTH on 2018-01-02 and 2018-12-31\n",
      "Fetching data for MGY on 2018-01-02 and 2018-12-31\n",
      "Fetching data for KB on 2018-01-02 and 2018-12-31\n",
      "Fetching data for WHD on 2018-01-02 and 2018-12-31\n"
     ]
    },
    {
     "name": "stderr",
     "output_type": "stream",
     "text": [
      "WARNING:root:Response appears to have no data.  Returning empty List.\n"
     ]
    },
    {
     "name": "stdout",
     "output_type": "stream",
     "text": [
      "Fetching data for LBRT on 2018-01-02 and 2018-12-31\n"
     ]
    },
    {
     "name": "stderr",
     "output_type": "stream",
     "text": [
      "WARNING:root:Response appears to have no data.  Returning empty List.\n"
     ]
    },
    {
     "name": "stdout",
     "output_type": "stream",
     "text": [
      "Fetching data for ACLS on 2018-01-02 and 2018-12-31\n",
      "Fetching data for IAC on 2018-01-02 and 2018-12-31\n",
      "Fetching data for GL on 2018-01-02 and 2018-12-31\n",
      "Fetching data for MCK on 2017-03-31 and 2018-04-02\n",
      "Fetching data for PFG on 2018-01-02 and 2018-12-31\n",
      "Fetching data for CHTR on 2018-01-02 and 2018-12-31\n",
      "Fetching data for OTEX on 2017-06-30 and 2018-07-02\n",
      "Fetching data for CVI on 2018-01-02 and 2018-12-31\n",
      "Fetching data for BTU on 2018-01-02 and 2018-12-31\n",
      "Fetching data for MU on 2017-08-31 and 2018-08-31\n",
      "Fetching data for LYB on 2018-01-02 and 2018-12-31\n",
      "Fetching data for KBR on 2018-01-02 and 2018-12-31\n",
      "Fetching data for AB on 2018-01-02 and 2018-12-31\n",
      "Fetching data for APO on 2018-01-02 and 2018-12-31\n",
      "Fetching data for SKY on 2017-05-31 and 2018-05-31\n",
      "Fetching data for QXO on 2017-01-03 and 2018-01-02\n",
      "Fetching data for IESC on 2016-09-30 and 2017-10-02\n",
      "Fetching data for BYD on 2017-01-03 and 2018-01-02\n",
      "Fetching data for DAN on 2017-01-03 and 2018-01-02\n",
      "Fetching data for KB on 2017-01-03 and 2018-01-02\n",
      "Fetching data for OXLCN on 2017-03-31 and 2018-04-02\n"
     ]
    },
    {
     "name": "stderr",
     "output_type": "stream",
     "text": [
      "WARNING:root:Response appears to have no data.  Returning empty List.\n"
     ]
    },
    {
     "name": "stdout",
     "output_type": "stream",
     "text": [
      "Fetching data for OXLCP on 2017-03-31 and 2018-04-02\n"
     ]
    },
    {
     "name": "stderr",
     "output_type": "stream",
     "text": [
      "WARNING:root:Response appears to have no data.  Returning empty List.\n",
      "WARNING:root:Response appears to have no data.  Returning empty List.\n"
     ]
    },
    {
     "name": "stdout",
     "output_type": "stream",
     "text": [
      "Fetching data for OXLCZ on 2017-03-31 and 2018-04-02\n"
     ]
    },
    {
     "name": "stderr",
     "output_type": "stream",
     "text": [
      "WARNING:root:Response appears to have no data.  Returning empty List.\n",
      "WARNING:root:Response appears to have no data.  Returning empty List.\n"
     ]
    },
    {
     "name": "stdout",
     "output_type": "stream",
     "text": [
      "Fetching data for OXLCO on 2017-03-31 and 2018-04-02\n",
      "Fetching data for OXLCL on 2017-03-31 and 2018-04-02\n"
     ]
    },
    {
     "name": "stderr",
     "output_type": "stream",
     "text": [
      "WARNING:root:Response appears to have no data.  Returning empty List.\n",
      "WARNING:root:Response appears to have no data.  Returning empty List.\n"
     ]
    },
    {
     "name": "stdout",
     "output_type": "stream",
     "text": [
      "Fetching data for OXLC on 2017-03-31 and 2018-04-02\n",
      "Fetching data for HLNE on 2016-03-31 and 2017-03-31\n"
     ]
    },
    {
     "name": "stderr",
     "output_type": "stream",
     "text": [
      "WARNING:root:Response appears to have no data.  Returning empty List.\n"
     ]
    },
    {
     "name": "stdout",
     "output_type": "stream",
     "text": [
      "Fetching data for BLDR on 2017-01-03 and 2018-01-02\n",
      "Fetching data for CALM on 2016-05-31 and 2017-05-30\n",
      "Fetching data for GILD on 2017-01-03 and 2018-01-02\n",
      "Fetching data for ELY on 2017-01-03 and 2018-01-02\n",
      "Fetching data for EBAY on 2017-01-03 and 2018-01-02\n",
      "Fetching data for AMRX on 2017-01-03 and 2018-01-02\n",
      "Fetching data for UTHR on 2017-01-03 and 2018-01-02\n",
      "Fetching data for GTX on 2017-01-03 and 2018-01-02\n"
     ]
    },
    {
     "name": "stderr",
     "output_type": "stream",
     "text": [
      "WARNING:root:Response appears to have no data.  Returning empty List.\n",
      "WARNING:root:Response appears to have no data.  Returning empty List.\n"
     ]
    },
    {
     "name": "stdout",
     "output_type": "stream",
     "text": [
      "Fetching data for VIPS on 2017-01-03 and 2018-01-02\n",
      "Fetching data for GBX on 2016-08-31 and 2017-08-31\n",
      "Fetching data for NYMTM on 2017-01-03 and 2018-01-02\n"
     ]
    },
    {
     "name": "stderr",
     "output_type": "stream",
     "text": [
      "WARNING:root:Response appears to have no data.  Returning empty List.\n",
      "WARNING:root:Response appears to have no data.  Returning empty List.\n"
     ]
    },
    {
     "name": "stdout",
     "output_type": "stream",
     "text": [
      "Fetching data for NYMTL on 2017-01-03 and 2018-01-02\n"
     ]
    },
    {
     "name": "stderr",
     "output_type": "stream",
     "text": [
      "WARNING:root:Response appears to have no data.  Returning empty List.\n",
      "WARNING:root:Response appears to have no data.  Returning empty List.\n"
     ]
    },
    {
     "name": "stdout",
     "output_type": "stream",
     "text": [
      "Fetching data for NYMTZ on 2017-01-03 and 2018-01-02\n"
     ]
    },
    {
     "name": "stderr",
     "output_type": "stream",
     "text": [
      "WARNING:root:Response appears to have no data.  Returning empty List.\n",
      "WARNING:root:Response appears to have no data.  Returning empty List.\n"
     ]
    },
    {
     "name": "stdout",
     "output_type": "stream",
     "text": [
      "Fetching data for APO on 2017-01-03 and 2018-01-02\n",
      "Fetching data for MASI on 2017-01-03 and 2018-01-02\n",
      "Fetching data for ARLP on 2017-01-03 and 2018-01-02\n",
      "Fetching data for HPQ on 2016-10-31 and 2017-10-31\n",
      "Fetching data for LNTH on 2017-01-03 and 2018-01-02\n",
      "Fetching data for IDCC on 2017-01-03 and 2018-01-02\n",
      "Fetching data for MTG on 2015-12-31 and 2016-12-30\n",
      "Fetching data for HLNE on 2015-03-31 and 2016-03-30\n"
     ]
    },
    {
     "name": "stderr",
     "output_type": "stream",
     "text": [
      "WARNING:root:Response appears to have no data.  Returning empty List.\n",
      "WARNING:root:Response appears to have no data.  Returning empty List.\n"
     ]
    },
    {
     "name": "stdout",
     "output_type": "stream",
     "text": [
      "Fetching data for UAL on 2015-12-31 and 2016-12-30\n",
      "Fetching data for IHG on 2015-12-31 and 2016-12-30\n",
      "Fetching data for AAL on 2015-12-31 and 2016-12-30\n",
      "Fetching data for RMBS on 2015-12-31 and 2016-12-30\n",
      "Fetching data for GILD on 2015-12-31 and 2016-12-30\n",
      "Fetching data for LAZ on 2015-12-31 and 2016-12-30\n",
      "Fetching data for DNB on 2015-12-31 and 2016-12-30\n"
     ]
    },
    {
     "name": "stderr",
     "output_type": "stream",
     "text": [
      "WARNING:root:Response appears to have no data.  Returning empty List.\n",
      "WARNING:root:Response appears to have no data.  Returning empty List.\n"
     ]
    },
    {
     "name": "stdout",
     "output_type": "stream",
     "text": [
      "Fetching data for UNM on 2015-12-31 and 2016-12-30\n",
      "Fetching data for AEL on 2015-12-31 and 2016-12-30\n",
      "Fetching data for SANM on 2015-10-05 and 2016-10-03\n",
      "Fetching data for LGND on 2015-12-31 and 2016-12-30\n",
      "Fetching data for SLM on 2015-12-31 and 2016-12-30\n",
      "Fetching data for SLMBP on 2015-12-31 and 2016-12-30\n",
      "Fetching data for GBX on 2015-08-31 and 2016-08-30\n",
      "Fetching data for BKE on 2016-02-01 and 2017-01-30\n",
      "Fetching data for PPC on 2015-12-28 and 2016-12-27\n",
      "Fetching data for GSK on 2015-12-31 and 2016-12-30\n",
      "Fetching data for RDN on 2015-12-31 and 2016-12-30\n",
      "Fetching data for LYB on 2015-12-31 and 2016-12-30\n",
      "Fetching data for VIPS on 2015-12-31 and 2016-12-30\n",
      "Fetching data for STX on 2015-07-06 and 2016-07-05\n",
      "Fetching data for RITM on 2015-12-31 and 2016-12-30\n",
      "Fetching data for NRZ on 2015-12-31 and 2016-12-30\n",
      "Fetching data for CZR on 2015-12-31 and 2016-12-30\n",
      "Fetching data for THG on 2015-12-31 and 2016-12-30\n",
      "Fetching data for SPR on 2015-12-31 and 2016-12-30\n",
      "Fetching data for CGABL on 2014-12-31 and 2015-12-31\n"
     ]
    },
    {
     "name": "stderr",
     "output_type": "stream",
     "text": [
      "WARNING:root:Response appears to have no data.  Returning empty List.\n",
      "WARNING:root:Response appears to have no data.  Returning empty List.\n"
     ]
    },
    {
     "name": "stdout",
     "output_type": "stream",
     "text": [
      "Fetching data for DNB on 2014-12-31 and 2015-12-31\n"
     ]
    },
    {
     "name": "stderr",
     "output_type": "stream",
     "text": [
      "WARNING:root:Response appears to have no data.  Returning empty List.\n",
      "WARNING:root:Response appears to have no data.  Returning empty List.\n"
     ]
    },
    {
     "name": "stdout",
     "output_type": "stream",
     "text": [
      "Fetching data for JOE on 2014-12-31 and 2015-12-31\n",
      "Fetching data for GRBK on 2014-12-31 and 2015-12-31\n",
      "Fetching data for VZIO on 2014-12-31 and 2015-12-31\n"
     ]
    },
    {
     "name": "stderr",
     "output_type": "stream",
     "text": [
      "WARNING:root:Response appears to have no data.  Returning empty List.\n",
      "WARNING:root:Response appears to have no data.  Returning empty List.\n"
     ]
    },
    {
     "name": "stdout",
     "output_type": "stream",
     "text": [
      "Fetching data for ENVA on 2014-12-31 and 2015-12-31\n",
      "Fetching data for XENE on 2014-12-31 and 2015-12-31\n",
      "Fetching data for LYB on 2014-12-31 and 2015-12-31\n",
      "Fetching data for CIG on 2014-12-31 and 2015-12-31\n",
      "Fetching data for SM on 2014-12-31 and 2015-12-31\n",
      "Fetching data for THG on 2014-12-31 and 2015-12-31\n",
      "Fetching data for RDY on 2015-03-31 and 2016-03-30\n",
      "Fetching data for DKL on 2014-12-31 and 2015-12-31\n",
      "Fetching data for SWI on 2014-12-31 and 2015-12-31\n"
     ]
    },
    {
     "name": "stderr",
     "output_type": "stream",
     "text": [
      "WARNING:root:Response appears to have no data.  Returning empty List.\n",
      "WARNING:root:Response appears to have no data.  Returning empty List.\n"
     ]
    },
    {
     "name": "stdout",
     "output_type": "stream",
     "text": [
      "Fetching data for PFG on 2014-12-31 and 2015-12-31\n",
      "Fetching data for AXS on 2014-12-31 and 2015-12-31\n",
      "Fetching data for NNI on 2014-12-31 and 2015-12-31\n",
      "Fetching data for CI on 2014-12-31 and 2015-12-31\n",
      "Fetching data for NOG on 2014-12-31 and 2015-12-31\n",
      "Fetching data for OUT on 2014-12-31 and 2015-12-31\n",
      "Fetching data for CF on 2014-12-31 and 2015-12-31\n",
      "Fetching data for IBA on 2014-12-31 and 2015-12-31\n",
      "Fetching data for DAN on 2014-12-31 and 2015-12-31\n",
      "Fetching data for GLP on 2014-12-31 and 2015-12-31\n",
      "Fetching data for KDP on 2014-12-31 and 2015-12-31\n",
      "Fetching data for MGA on 2014-12-31 and 2015-12-31\n",
      "Fetching data for REGI on 2013-12-31 and 2014-12-31\n",
      "Fetching data for VZIO on 2013-12-31 and 2014-12-31\n"
     ]
    },
    {
     "name": "stderr",
     "output_type": "stream",
     "text": [
      "WARNING:root:Response appears to have no data.  Returning empty List.\n",
      "WARNING:root:Response appears to have no data.  Returning empty List.\n"
     ]
    },
    {
     "name": "stdout",
     "output_type": "stream",
     "text": [
      "Fetching data for BKI on 2013-12-31 and 2014-12-31\n"
     ]
    },
    {
     "name": "stderr",
     "output_type": "stream",
     "text": [
      "WARNING:root:Response appears to have no data.  Returning empty List.\n",
      "WARNING:root:Response appears to have no data.  Returning empty List.\n"
     ]
    },
    {
     "name": "stdout",
     "output_type": "stream",
     "text": [
      "Fetching data for ESTE on 2014-03-31 and 2015-03-31\n",
      "Fetching data for SJR on 2013-09-03 and 2014-09-02\n",
      "Fetching data for MMP on 2013-12-31 and 2014-12-31\n",
      "Fetching data for ATCOL on 2013-12-31 and 2014-12-31\n"
     ]
    },
    {
     "name": "stderr",
     "output_type": "stream",
     "text": [
      "WARNING:root:Response appears to have no data.  Returning empty List.\n",
      "WARNING:root:Response appears to have no data.  Returning empty List.\n"
     ]
    },
    {
     "name": "stdout",
     "output_type": "stream",
     "text": [
      "Fetching data for ATCO on 2013-12-31 and 2014-12-31\n",
      "Fetching data for BSMX on 2013-12-31 and 2014-12-31\n",
      "Fetching data for HEP on 2013-12-31 and 2014-12-31\n",
      "Fetching data for ATVI on 2013-12-31 and 2014-12-31\n",
      "Fetching data for LHCG on 2013-12-31 and 2014-12-31\n",
      "Fetching data for MAXR on 2013-12-31 and 2014-12-31\n",
      "Fetching data for AAWW on 2013-12-31 and 2014-12-31\n",
      "Fetching data for AIMC on 2013-12-31 and 2014-12-31\n",
      "Fetching data for MDP on 2013-07-01 and 2014-06-30\n",
      "Fetching data for UMPQ on 2013-12-31 and 2014-12-31\n",
      "Fetching data for CS on 2013-12-31 and 2014-12-31\n",
      "Fetching data for DCP on 2013-12-31 and 2014-12-31\n",
      "Fetching data for ABCM on 2014-06-30 and 2015-06-30\n",
      "Fetching data for BXS on 2013-12-31 and 2014-12-31\n"
     ]
    },
    {
     "name": "stderr",
     "output_type": "stream",
     "text": [
      "WARNING:root:Response appears to have no data.  Returning empty List.\n",
      "WARNING:root:Response appears to have no data.  Returning empty List.\n"
     ]
    },
    {
     "name": "stdout",
     "output_type": "stream",
     "text": [
      "Fetching data for ITCB on 2013-12-31 and 2014-12-31\n",
      "Fetching data for LION on 2013-12-31 and 2014-12-31\n"
     ]
    },
    {
     "name": "stderr",
     "output_type": "stream",
     "text": [
      "WARNING:root:Response appears to have no data.  Returning empty List.\n",
      "WARNING:root:Response appears to have no data.  Returning empty List.\n"
     ]
    },
    {
     "name": "stdout",
     "output_type": "stream",
     "text": [
      "Fetching data for ABMD on 2013-04-01 and 2014-03-31\n",
      "Fetching data for DEN on 2013-12-31 and 2014-12-31\n"
     ]
    },
    {
     "name": "stderr",
     "output_type": "stream",
     "text": [
      "WARNING:root:Response appears to have no data.  Returning empty List.\n",
      "WARNING:root:Response appears to have no data.  Returning empty List.\n"
     ]
    },
    {
     "name": "stdout",
     "output_type": "stream",
     "text": [
      "Fetching data for RXN on 2013-04-01 and 2014-03-31\n",
      "Fetching data for ATH on 2013-12-31 and 2014-12-31\n"
     ]
    },
    {
     "name": "stderr",
     "output_type": "stream",
     "text": [
      "WARNING:root:Response appears to have no data.  Returning empty List.\n",
      "WARNING:root:Response appears to have no data.  Returning empty List.\n"
     ]
    },
    {
     "name": "stdout",
     "output_type": "stream",
     "text": [
      "Fetching data for FCBP on 2013-12-31 and 2014-12-31\n"
     ]
    },
    {
     "name": "stderr",
     "output_type": "stream",
     "text": [
      "WARNING:root:Response appears to have no data.  Returning empty List.\n",
      "WARNING:root:Response appears to have no data.  Returning empty List.\n"
     ]
    },
    {
     "name": "stdout",
     "output_type": "stream",
     "text": [
      "Fetching data for NATI on 2013-12-31 and 2014-12-31\n",
      "Fetching data for LSI on 2013-12-31 and 2014-12-31\n",
      "Fetching data for MMAC on 2013-12-31 and 2014-12-31\n"
     ]
    },
    {
     "name": "stderr",
     "output_type": "stream",
     "text": [
      "WARNING:root:Response appears to have no data.  Returning empty List.\n"
     ]
    },
    {
     "name": "stdout",
     "output_type": "stream",
     "text": [
      "Fetching data for IKNX on 2013-12-31 and 2014-12-31\n"
     ]
    },
    {
     "name": "stderr",
     "output_type": "stream",
     "text": [
      "WARNING:root:Response appears to have no data.  Returning empty List.\n"
     ]
    },
    {
     "name": "stdout",
     "output_type": "stream",
     "text": [
      "Fetching data for SJI on 2013-12-31 and 2014-12-31\n",
      "Fetching data for AJRD on 2013-12-02 and 2014-12-01\n",
      "Fetching data for HTA on 2013-12-31 and 2014-12-31\n",
      "Fetching data for MDP on 2012-07-02 and 2013-07-01\n",
      "Fetching data for IKNX on 2012-12-31 and 2013-12-31\n"
     ]
    },
    {
     "name": "stderr",
     "output_type": "stream",
     "text": [
      "WARNING:root:Response appears to have no data.  Returning empty List.\n"
     ]
    },
    {
     "name": "stdout",
     "output_type": "stream",
     "text": [
      "Fetching data for BXS on 2012-12-31 and 2013-12-31\n"
     ]
    },
    {
     "name": "stderr",
     "output_type": "stream",
     "text": [
      "WARNING:root:Response appears to have no data.  Returning empty List.\n",
      "WARNING:root:Response appears to have no data.  Returning empty List.\n"
     ]
    },
    {
     "name": "stdout",
     "output_type": "stream",
     "text": [
      "Fetching data for REGI on 2012-12-31 and 2013-12-31\n",
      "Fetching data for RXN on 2012-04-02 and 2013-04-01\n",
      "Fetching data for SJI on 2012-12-31 and 2013-12-31\n",
      "Fetching data for ABCM on 2013-07-01 and 2014-06-30\n",
      "Fetching data for MMAC on 2012-12-31 and 2013-12-31\n"
     ]
    },
    {
     "name": "stderr",
     "output_type": "stream",
     "text": [
      "WARNING:root:Response appears to have no data.  Returning empty List.\n",
      "WARNING:root:Response appears to have no data.  Returning empty List.\n"
     ]
    },
    {
     "name": "stdout",
     "output_type": "stream",
     "text": [
      "Fetching data for CLI on 2012-12-31 and 2013-12-31\n",
      "Fetching data for ISBC on 2012-12-31 and 2013-12-31\n",
      "Fetching data for VZIO on 2012-12-31 and 2013-12-31\n"
     ]
    },
    {
     "name": "stderr",
     "output_type": "stream",
     "text": [
      "WARNING:root:Response appears to have no data.  Returning empty List.\n",
      "WARNING:root:Response appears to have no data.  Returning empty List.\n"
     ]
    },
    {
     "name": "stdout",
     "output_type": "stream",
     "text": [
      "Fetching data for CREE on 2012-06-25 and 2013-06-24\n",
      "Fetching data for SKWD on 2012-12-31 and 2013-12-31\n"
     ]
    },
    {
     "name": "stderr",
     "output_type": "stream",
     "text": [
      "WARNING:root:Response appears to have no data.  Returning empty List.\n",
      "WARNING:root:Response appears to have no data.  Returning empty List.\n"
     ]
    },
    {
     "name": "stdout",
     "output_type": "stream",
     "text": [
      "Fetching data for RFP on 2012-12-31 and 2013-12-31\n",
      "Fetching data for HTA on 2012-12-31 and 2013-12-31\n",
      "Fetching data for LINE on 2012-12-31 and 2013-12-31\n"
     ]
    },
    {
     "name": "stderr",
     "output_type": "stream",
     "text": [
      "WARNING:root:Response appears to have no data.  Returning empty List.\n",
      "WARNING:root:Response appears to have no data.  Returning empty List.\n"
     ]
    },
    {
     "name": "stdout",
     "output_type": "stream",
     "text": [
      "Fetching data for MDCA on 2012-12-31 and 2013-12-31\n",
      "Fetching data for CERE on 2012-08-31 and 2013-09-03\n"
     ]
    },
    {
     "name": "stderr",
     "output_type": "stream",
     "text": [
      "WARNING:root:Response appears to have no data.  Returning empty List.\n",
      "WARNING:root:Response appears to have no data.  Returning empty List.\n"
     ]
    },
    {
     "name": "stdout",
     "output_type": "stream",
     "text": [
      "Fetching data for NETE on 2012-12-31 and 2013-12-31\n",
      "Fetching data for MMAC on 2012-01-03 and 2012-12-31\n"
     ]
    },
    {
     "name": "stderr",
     "output_type": "stream",
     "text": [
      "WARNING:root:Response appears to have no data.  Returning empty List.\n",
      "WARNING:root:Response appears to have no data.  Returning empty List.\n"
     ]
    },
    {
     "name": "stdout",
     "output_type": "stream",
     "text": [
      "Fetching data for ABCM on 2012-07-02 and 2013-07-01\n",
      "Fetching data for BXS on 2012-01-03 and 2012-12-31\n"
     ]
    },
    {
     "name": "stderr",
     "output_type": "stream",
     "text": [
      "WARNING:root:Response appears to have no data.  Returning empty List.\n",
      "WARNING:root:Response appears to have no data.  Returning empty List.\n"
     ]
    },
    {
     "name": "stdout",
     "output_type": "stream",
     "text": [
      "Fetching data for IKNX on 2012-01-03 and 2012-12-31\n",
      "Fetching data for RXN on 2011-03-31 and 2012-03-30\n"
     ]
    },
    {
     "name": "stderr",
     "output_type": "stream",
     "text": [
      "WARNING:root:Response appears to have no data.  Returning empty List.\n"
     ]
    },
    {
     "name": "stdout",
     "output_type": "stream",
     "text": [
      "Fetching data for CLI on 2012-01-03 and 2012-12-31\n",
      "Fetching data for MDCA on 2012-01-03 and 2012-12-31\n",
      "Fetching data for FA on 2008-12-31 and 2009-12-31\n"
     ]
    },
    {
     "name": "stderr",
     "output_type": "stream",
     "text": [
      "WARNING:root:Response appears to have no data.  Returning empty List.\n",
      "WARNING:root:Response appears to have no data.  Returning empty List.\n"
     ]
    },
    {
     "name": "stdout",
     "output_type": "stream",
     "text": [
      "Fetching data for APLD on 2008-06-02 and 2009-06-01\n"
     ]
    },
    {
     "name": "stderr",
     "output_type": "stream",
     "text": [
      "WARNING:root:Response appears to have no data.  Returning empty List.\n",
      "WARNING:root:Response appears to have no data.  Returning empty List.\n"
     ]
    },
    {
     "name": "stdout",
     "output_type": "stream",
     "text": [
      "Fetching data for DRS on 2008-03-31 and 2009-03-31\n",
      "Fetching data for FA on 2007-12-31 and 2008-12-30\n"
     ]
    },
    {
     "name": "stderr",
     "output_type": "stream",
     "text": [
      "WARNING:root:Response appears to have no data.  Returning empty List.\n",
      "WARNING:root:Response appears to have no data.  Returning empty List.\n"
     ]
    },
    {
     "name": "stdout",
     "output_type": "stream",
     "text": [
      "Fetching data for APLD on 2007-05-31 and 2008-05-30\n"
     ]
    },
    {
     "name": "stderr",
     "output_type": "stream",
     "text": [
      "WARNING:root:Response appears to have no data.  Returning empty List.\n",
      "WARNING:root:Response appears to have no data.  Returning empty List.\n"
     ]
    },
    {
     "name": "stdout",
     "output_type": "stream",
     "text": [
      "Fetching data for DRS on 2007-04-02 and 2008-03-31\n",
      "Fetching data for FA on 2007-01-01 and 2007-12-31\n"
     ]
    },
    {
     "name": "stderr",
     "output_type": "stream",
     "text": [
      "WARNING:root:Response appears to have no data.  Returning empty List.\n",
      "WARNING:root:Response appears to have no data.  Returning empty List.\n"
     ]
    },
    {
     "name": "stdout",
     "output_type": "stream",
     "text": [
      "Fetching data for APLD on 2006-05-31 and 2007-05-31\n"
     ]
    },
    {
     "name": "stderr",
     "output_type": "stream",
     "text": [
      "WARNING:root:Response appears to have no data.  Returning empty List.\n",
      "WARNING:root:Response appears to have no data.  Returning empty List.\n"
     ]
    },
    {
     "name": "stdout",
     "output_type": "stream",
     "text": [
      "Fetching data for DRS on 2006-03-31 and 2007-04-02\n",
      "Fetching data for FA on 2006-01-02 and 2007-01-01\n"
     ]
    },
    {
     "name": "stderr",
     "output_type": "stream",
     "text": [
      "WARNING:root:Response appears to have no data.  Returning empty List.\n",
      "WARNING:root:Response appears to have no data.  Returning empty List.\n"
     ]
    },
    {
     "name": "stdout",
     "output_type": "stream",
     "text": [
      "Fetching data for APLD on 2005-05-31 and 2006-05-31\n"
     ]
    },
    {
     "name": "stderr",
     "output_type": "stream",
     "text": [
      "WARNING:root:Response appears to have no data.  Returning empty List.\n",
      "WARNING:root:Response appears to have no data.  Returning empty List.\n"
     ]
    },
    {
     "name": "stdout",
     "output_type": "stream",
     "text": [
      "Fetching data for FA on 2004-12-31 and 2006-01-02\n"
     ]
    },
    {
     "name": "stderr",
     "output_type": "stream",
     "text": [
      "WARNING:root:Response appears to have no data.  Returning empty List.\n",
      "WARNING:root:Response appears to have no data.  Returning empty List.\n"
     ]
    },
    {
     "name": "stdout",
     "output_type": "stream",
     "text": [
      "Fetching data for APLD on 2004-05-31 and 2005-05-31\n"
     ]
    },
    {
     "name": "stderr",
     "output_type": "stream",
     "text": [
      "WARNING:root:Response appears to have no data.  Returning empty List.\n",
      "WARNING:root:Response appears to have no data.  Returning empty List.\n"
     ]
    },
    {
     "name": "stdout",
     "output_type": "stream",
     "text": [
      "Fetching data for RXO on 2001-12-31 and 2002-12-31\n"
     ]
    },
    {
     "name": "stderr",
     "output_type": "stream",
     "text": [
      "WARNING:root:Response appears to have no data.  Returning empty List.\n",
      "WARNING:root:Response appears to have no data.  Returning empty List.\n"
     ]
    },
    {
     "data": {
      "text/html": [
       "<div>\n",
       "<style scoped>\n",
       "    .dataframe tbody tr th:only-of-type {\n",
       "        vertical-align: middle;\n",
       "    }\n",
       "\n",
       "    .dataframe tbody tr th {\n",
       "        vertical-align: top;\n",
       "    }\n",
       "\n",
       "    .dataframe thead th {\n",
       "        text-align: right;\n",
       "    }\n",
       "</style>\n",
       "<table border=\"1\" class=\"dataframe\">\n",
       "  <thead>\n",
       "    <tr style=\"text-align: right;\">\n",
       "      <th></th>\n",
       "      <th>Unnamed: 0</th>\n",
       "      <th>symbol</th>\n",
       "      <th>date</th>\n",
       "      <th>calendarYear</th>\n",
       "      <th>period</th>\n",
       "      <th>roic</th>\n",
       "      <th>earningsYield</th>\n",
       "      <th>roic_rank</th>\n",
       "      <th>earnings_yield_rank</th>\n",
       "      <th>f_rank</th>\n",
       "      <th>adjusted_date</th>\n",
       "      <th>close</th>\n",
       "      <th>adjusted_date_one_year_later</th>\n",
       "      <th>close_one_year_later</th>\n",
       "    </tr>\n",
       "  </thead>\n",
       "  <tbody>\n",
       "    <tr>\n",
       "      <th>0</th>\n",
       "      <td>17365</td>\n",
       "      <td>GPOR</td>\n",
       "      <td>2023-12-31</td>\n",
       "      <td>2023</td>\n",
       "      <td>FY</td>\n",
       "      <td>0.514111</td>\n",
       "      <td>0.592272</td>\n",
       "      <td>16</td>\n",
       "      <td>4</td>\n",
       "      <td>1</td>\n",
       "      <td>2024-01-02</td>\n",
       "      <td>134.09</td>\n",
       "      <td>2024-12-30</td>\n",
       "      <td>181.50</td>\n",
       "    </tr>\n",
       "    <tr>\n",
       "      <th>1</th>\n",
       "      <td>21373</td>\n",
       "      <td>FIHL</td>\n",
       "      <td>2023-12-31</td>\n",
       "      <td>2023</td>\n",
       "      <td>FY</td>\n",
       "      <td>0.425341</td>\n",
       "      <td>1.472357</td>\n",
       "      <td>22</td>\n",
       "      <td>2</td>\n",
       "      <td>2</td>\n",
       "      <td>2024-01-02</td>\n",
       "      <td>12.33</td>\n",
       "      <td>2024-12-30</td>\n",
       "      <td>17.73</td>\n",
       "    </tr>\n",
       "    <tr>\n",
       "      <th>2</th>\n",
       "      <td>13765</td>\n",
       "      <td>CALM</td>\n",
       "      <td>2023-06-03</td>\n",
       "      <td>2023</td>\n",
       "      <td>FY</td>\n",
       "      <td>0.413915</td>\n",
       "      <td>0.327624</td>\n",
       "      <td>26</td>\n",
       "      <td>18</td>\n",
       "      <td>3</td>\n",
       "      <td>2023-06-05</td>\n",
       "      <td>47.09</td>\n",
       "      <td>2024-06-03</td>\n",
       "      <td>61.12</td>\n",
       "    </tr>\n",
       "    <tr>\n",
       "      <th>3</th>\n",
       "      <td>10703</td>\n",
       "      <td>APA</td>\n",
       "      <td>2023-12-31</td>\n",
       "      <td>2023</td>\n",
       "      <td>FY</td>\n",
       "      <td>0.447409</td>\n",
       "      <td>0.258347</td>\n",
       "      <td>19</td>\n",
       "      <td>34</td>\n",
       "      <td>4</td>\n",
       "      <td>2024-01-02</td>\n",
       "      <td>36.11</td>\n",
       "      <td>2024-12-30</td>\n",
       "      <td>22.42</td>\n",
       "    </tr>\n",
       "    <tr>\n",
       "      <th>4</th>\n",
       "      <td>21142</td>\n",
       "      <td>FINV</td>\n",
       "      <td>2023-12-31</td>\n",
       "      <td>2023</td>\n",
       "      <td>FY</td>\n",
       "      <td>0.333614</td>\n",
       "      <td>0.240103</td>\n",
       "      <td>48</td>\n",
       "      <td>43</td>\n",
       "      <td>5</td>\n",
       "      <td>2024-01-02</td>\n",
       "      <td>4.82</td>\n",
       "      <td>2024-12-30</td>\n",
       "      <td>6.80</td>\n",
       "    </tr>\n",
       "    <tr>\n",
       "      <th>...</th>\n",
       "      <td>...</td>\n",
       "      <td>...</td>\n",
       "      <td>...</td>\n",
       "      <td>...</td>\n",
       "      <td>...</td>\n",
       "      <td>...</td>\n",
       "      <td>...</td>\n",
       "      <td>...</td>\n",
       "      <td>...</td>\n",
       "      <td>...</td>\n",
       "      <td>...</td>\n",
       "      <td>...</td>\n",
       "      <td>...</td>\n",
       "      <td>...</td>\n",
       "    </tr>\n",
       "    <tr>\n",
       "      <th>353</th>\n",
       "      <td>17303</td>\n",
       "      <td>FA</td>\n",
       "      <td>2005-12-31</td>\n",
       "      <td>2005</td>\n",
       "      <td>FY</td>\n",
       "      <td>0.063690</td>\n",
       "      <td>0.056081</td>\n",
       "      <td>1</td>\n",
       "      <td>2</td>\n",
       "      <td>1</td>\n",
       "      <td>2006-01-02</td>\n",
       "      <td>NaN</td>\n",
       "      <td>2007-01-01</td>\n",
       "      <td>NaN</td>\n",
       "    </tr>\n",
       "    <tr>\n",
       "      <th>354</th>\n",
       "      <td>22032</td>\n",
       "      <td>APLD</td>\n",
       "      <td>2005-05-31</td>\n",
       "      <td>2005</td>\n",
       "      <td>FY</td>\n",
       "      <td>-0.194884</td>\n",
       "      <td>-0.212506</td>\n",
       "      <td>3</td>\n",
       "      <td>3</td>\n",
       "      <td>2</td>\n",
       "      <td>2005-05-31</td>\n",
       "      <td>NaN</td>\n",
       "      <td>2006-05-31</td>\n",
       "      <td>NaN</td>\n",
       "    </tr>\n",
       "    <tr>\n",
       "      <th>355</th>\n",
       "      <td>17304</td>\n",
       "      <td>FA</td>\n",
       "      <td>2004-12-31</td>\n",
       "      <td>2004</td>\n",
       "      <td>FY</td>\n",
       "      <td>0.032673</td>\n",
       "      <td>0.010907</td>\n",
       "      <td>1</td>\n",
       "      <td>1</td>\n",
       "      <td>1</td>\n",
       "      <td>2004-12-31</td>\n",
       "      <td>NaN</td>\n",
       "      <td>2006-01-02</td>\n",
       "      <td>NaN</td>\n",
       "    </tr>\n",
       "    <tr>\n",
       "      <th>356</th>\n",
       "      <td>22033</td>\n",
       "      <td>APLD</td>\n",
       "      <td>2004-05-31</td>\n",
       "      <td>2004</td>\n",
       "      <td>FY</td>\n",
       "      <td>-0.046739</td>\n",
       "      <td>-0.084726</td>\n",
       "      <td>2</td>\n",
       "      <td>2</td>\n",
       "      <td>2</td>\n",
       "      <td>2004-05-31</td>\n",
       "      <td>NaN</td>\n",
       "      <td>2005-05-31</td>\n",
       "      <td>NaN</td>\n",
       "    </tr>\n",
       "    <tr>\n",
       "      <th>357</th>\n",
       "      <td>17142</td>\n",
       "      <td>RXO</td>\n",
       "      <td>2001-12-31</td>\n",
       "      <td>2001</td>\n",
       "      <td>FY</td>\n",
       "      <td>0.000000</td>\n",
       "      <td>0.000002</td>\n",
       "      <td>1</td>\n",
       "      <td>1</td>\n",
       "      <td>1</td>\n",
       "      <td>2001-12-31</td>\n",
       "      <td>NaN</td>\n",
       "      <td>2002-12-31</td>\n",
       "      <td>NaN</td>\n",
       "    </tr>\n",
       "  </tbody>\n",
       "</table>\n",
       "<p>358 rows × 14 columns</p>\n",
       "</div>"
      ],
      "text/plain": [
       "     Unnamed: 0 symbol        date  calendarYear period      roic  \\\n",
       "0         17365   GPOR  2023-12-31          2023     FY  0.514111   \n",
       "1         21373   FIHL  2023-12-31          2023     FY  0.425341   \n",
       "2         13765   CALM  2023-06-03          2023     FY  0.413915   \n",
       "3         10703    APA  2023-12-31          2023     FY  0.447409   \n",
       "4         21142   FINV  2023-12-31          2023     FY  0.333614   \n",
       "..          ...    ...         ...           ...    ...       ...   \n",
       "353       17303     FA  2005-12-31          2005     FY  0.063690   \n",
       "354       22032   APLD  2005-05-31          2005     FY -0.194884   \n",
       "355       17304     FA  2004-12-31          2004     FY  0.032673   \n",
       "356       22033   APLD  2004-05-31          2004     FY -0.046739   \n",
       "357       17142    RXO  2001-12-31          2001     FY  0.000000   \n",
       "\n",
       "     earningsYield  roic_rank  earnings_yield_rank  f_rank adjusted_date  \\\n",
       "0         0.592272         16                    4       1    2024-01-02   \n",
       "1         1.472357         22                    2       2    2024-01-02   \n",
       "2         0.327624         26                   18       3    2023-06-05   \n",
       "3         0.258347         19                   34       4    2024-01-02   \n",
       "4         0.240103         48                   43       5    2024-01-02   \n",
       "..             ...        ...                  ...     ...           ...   \n",
       "353       0.056081          1                    2       1    2006-01-02   \n",
       "354      -0.212506          3                    3       2    2005-05-31   \n",
       "355       0.010907          1                    1       1    2004-12-31   \n",
       "356      -0.084726          2                    2       2    2004-05-31   \n",
       "357       0.000002          1                    1       1    2001-12-31   \n",
       "\n",
       "      close adjusted_date_one_year_later  close_one_year_later  \n",
       "0    134.09                   2024-12-30                181.50  \n",
       "1     12.33                   2024-12-30                 17.73  \n",
       "2     47.09                   2024-06-03                 61.12  \n",
       "3     36.11                   2024-12-30                 22.42  \n",
       "4      4.82                   2024-12-30                  6.80  \n",
       "..      ...                          ...                   ...  \n",
       "353     NaN                   2007-01-01                   NaN  \n",
       "354     NaN                   2006-05-31                   NaN  \n",
       "355     NaN                   2006-01-02                   NaN  \n",
       "356     NaN                   2005-05-31                   NaN  \n",
       "357     NaN                   2002-12-31                   NaN  \n",
       "\n",
       "[358 rows x 14 columns]"
      ]
     },
     "metadata": {},
     "output_type": "display_data"
    }
   ],
   "source": [
    "import datetime\n",
    "\n",
    "# List of known holidays (extend as needed)\n",
    "HOLIDAYS = [\n",
    "  \"2025-01-01\", \"2025-01-20\", \"2025-02-17\", \"2025-04-18\", \"2025-05-26\", \"2025-06-19\", \"2025-07-04\", \"2025-09-01\", \"2025-11-27\", \"2025-12-25\",\n",
    "  \"2024-01-01\", \"2024-01-15\", \"2024-02-19\", \"2024-03-29\", \"2024-05-27\", \"2024-06-19\", \"2024-07-04\", \"2024-09-02\", \"2024-11-28\", \"2024-12-25\",\n",
    "  \"2023-01-02\", \"2023-01-16\", \"2023-02-20\", \"2023-04-07\", \"2023-05-29\", \"2023-06-19\", \"2023-07-04\", \"2023-09-04\", \"2023-11-23\", \"2023-12-25\",\n",
    "  \"2022-01-17\", \"2022-02-21\", \"2022-04-15\", \"2022-05-30\", \"2022-06-20\", \"2022-07-04\", \"2022-09-05\", \"2022-11-24\", \"2022-12-26\",\n",
    "  \"2021-01-01\", \"2021-01-18\", \"2021-02-15\", \"2021-04-02\", \"2021-05-31\", \"2021-07-05\", \"2021-09-06\", \"2021-11-25\", \"2021-12-24\",\n",
    "  \"2020-01-01\", \"2020-01-20\", \"2020-02-17\", \"2020-04-10\", \"2020-05-25\", \"2020-07-03\", \"2020-09-07\", \"2020-11-26\", \"2020-12-25\",\n",
    "  \"2019-01-01\", \"2019-01-21\", \"2019-02-18\", \"2019-04-19\", \"2019-05-27\", \"2019-07-04\", \"2019-09-02\", \"2019-11-28\", \"2019-12-25\",\n",
    "  \"2018-01-01\", \"2018-01-15\", \"2018-02-19\", \"2018-03-30\", \"2018-05-28\", \"2018-07-04\", \"2018-09-03\", \"2018-11-22\", \"2018-12-25\",\n",
    "  \"2017-01-02\", \"2017-01-16\", \"2017-02-20\", \"2017-04-14\", \"2017-05-29\", \"2017-07-04\", \"2017-09-04\", \"2017-11-23\", \"2017-12-25\",\n",
    "  \"2016-01-01\", \"2016-01-18\", \"2016-02-15\", \"2016-03-25\", \"2016-05-30\", \"2016-07-04\", \"2016-09-05\", \"2016-11-24\", \"2016-12-26\",\n",
    "  \"2015-01-01\", \"2015-01-19\", \"2015-02-16\", \"2015-04-03\", \"2015-05-25\", \"2015-07-03\", \"2015-09-07\", \"2015-11-26\", \"2015-12-25\",\n",
    "  \"2014-01-01\", \"2014-01-20\", \"2014-02-17\", \"2014-04-18\", \"2014-05-26\", \"2014-07-04\", \"2014-09-01\", \"2014-11-27\", \"2014-12-25\",\n",
    "  \"2013-01-01\", \"2013-01-21\", \"2013-02-18\", \"2013-03-29\", \"2013-05-27\", \"2013-07-04\", \"2013-09-02\", \"2013-11-28\", \"2013-12-25\",\n",
    "  \"2012-01-02\", \"2012-01-16\", \"2012-02-20\", \"2012-04-06\", \"2012-05-28\", \"2012-07-04\", \"2012-09-03\", \"2012-11-22\", \"2012-12-25\",\n",
    "  \"2011-01-17\", \"2011-02-21\", \"2011-04-22\", \"2011-05-30\", \"2011-07-04\", \"2011-09-05\", \"2011-11-24\", \"2011-12-26\",\n",
    "  \"2010-01-01\", \"2010-01-18\", \"2010-02-15\", \"2010-04-02\", \"2010-05-31\", \"2010-07-05\", \"2010-09-06\", \"2010-11-25\", \"2010-12-24\"\n",
    "]\n",
    "\n",
    "\n",
    "# Function to get the next workday, skipping weekends and holidays\n",
    "def get_next_workday(date):\n",
    "    # Convert string date to datetime object\n",
    "    date = datetime.datetime.strptime(date, \"%Y-%m-%d\")\n",
    "\n",
    "    # Move forward if it's a weekend or holiday\n",
    "    while date.weekday() in [5, 6] or date.strftime(\"%Y-%m-%d\") in HOLIDAYS:\n",
    "        date += datetime.timedelta(days=1)\n",
    "\n",
    "    return date.strftime(\"%Y-%m-%d\")  # Convert back to string\n",
    "\n",
    "# Filter out 2024 data\n",
    "financial_data_top_20 = financial_data_top_20[financial_data_top_20[\"date\"].str[:4] != \"2024\"]\n",
    "\n",
    "# Initialize an empty list to store closing prices\n",
    "close_prices = []\n",
    "\n",
    "# Loop through each row in financial_data to fetch the closing price\n",
    "for index, row in financial_data_top_20.iterrows():\n",
    "    symbol = row[\"symbol\"]\n",
    "    date = row[\"date\"]  # Ensure date format is YYYY-MM-DD\n",
    "    \n",
    "    # Get the adjusted workday for the original date\n",
    "    adjusted_date = get_next_workday(date)\n",
    "    \n",
    "    # Get the adjusted workday for the same date one year later\n",
    "    date_one_year_later = (datetime.datetime.strptime(date, \"%Y-%m-%d\") + datetime.timedelta(days=365)).strftime(\"%Y-%m-%d\")\n",
    "    adjusted_date_one_year_later = get_next_workday(date_one_year_later)\n",
    "    \n",
    "    print(f\"Fetching data for {symbol} on {adjusted_date} and {adjusted_date_one_year_later}\")\n",
    "\n",
    "    # Fetch historical price data for the original date\n",
    "    try:\n",
    "        price_data = fmpsdk.historical_price_full(apikey=API_KEY, symbol=symbol, from_date=adjusted_date, to_date=adjusted_date)\n",
    "        \n",
    "        if isinstance(price_data, list) and len(price_data) > 0:\n",
    "            price_df = pd.DataFrame(price_data)  # Directly convert the list into a DataFrame\n",
    "            close_price = price_df[\"close\"].iloc[0]  # Get the closing price\n",
    "        else:\n",
    "            close_price = None  # No valid data found\n",
    "\n",
    "    except Exception as e:\n",
    "        print(f\"Error fetching data for {symbol} on {adjusted_date}: {e}\")\n",
    "        close_price = None\n",
    "\n",
    "    # Fetch historical price data for one year later\n",
    "    try:\n",
    "        price_data_one_year_later = fmpsdk.historical_price_full(apikey=API_KEY, symbol=symbol, from_date=adjusted_date_one_year_later, to_date=adjusted_date_one_year_later)\n",
    "        \n",
    "        if isinstance(price_data_one_year_later, list) and len(price_data_one_year_later) > 0:\n",
    "            price_df_one_year_later = pd.DataFrame(price_data_one_year_later)\n",
    "            close_price_one_year_later = price_df_one_year_later[\"close\"].iloc[0]\n",
    "        else:\n",
    "            close_price_one_year_later = None\n",
    "\n",
    "    except Exception as e:\n",
    "        print(f\"Error fetching data for {symbol} on {adjusted_date_one_year_later}: {e}\")\n",
    "        close_price_one_year_later = None\n",
    "\n",
    "    # Append results to list\n",
    "    close_prices.append({\n",
    "        \"symbol\": symbol,\n",
    "        \"date\": date,\n",
    "        \"adjusted_date\": adjusted_date,\n",
    "        \"close\": close_price,\n",
    "        \"adjusted_date_one_year_later\": adjusted_date_one_year_later,\n",
    "        \"close_one_year_later\": close_price_one_year_later\n",
    "    })\n",
    "\n",
    "# Convert list to DataFrame\n",
    "close_df = pd.DataFrame(close_prices)\n",
    "\n",
    "# Merge the closing prices into financial_data\n",
    "financial_data_top_20 = financial_data_top_20.merge(close_df, on=[\"symbol\", \"date\"], how=\"left\")\n",
    "\n",
    "# Display the final DataFrame in Streamlit\n",
    "display(financial_data_top_20)\n"
   ]
  },
  {
   "cell_type": "code",
   "execution_count": 42,
   "metadata": {},
   "outputs": [
    {
     "data": {
      "text/html": [
       "<div>\n",
       "<style scoped>\n",
       "    .dataframe tbody tr th:only-of-type {\n",
       "        vertical-align: middle;\n",
       "    }\n",
       "\n",
       "    .dataframe tbody tr th {\n",
       "        vertical-align: top;\n",
       "    }\n",
       "\n",
       "    .dataframe thead th {\n",
       "        text-align: right;\n",
       "    }\n",
       "</style>\n",
       "<table border=\"1\" class=\"dataframe\">\n",
       "  <thead>\n",
       "    <tr style=\"text-align: right;\">\n",
       "      <th></th>\n",
       "      <th>symbol</th>\n",
       "      <th>date</th>\n",
       "      <th>adjusted_date</th>\n",
       "      <th>close</th>\n",
       "      <th>adjusted_date_one_year_later</th>\n",
       "      <th>close_one_year_later</th>\n",
       "    </tr>\n",
       "  </thead>\n",
       "  <tbody>\n",
       "    <tr>\n",
       "      <th>0</th>\n",
       "      <td>GPOR</td>\n",
       "      <td>2023-12-31</td>\n",
       "      <td>2024-01-02</td>\n",
       "      <td>134.09</td>\n",
       "      <td>2024-12-30</td>\n",
       "      <td>181.50</td>\n",
       "    </tr>\n",
       "    <tr>\n",
       "      <th>1</th>\n",
       "      <td>FIHL</td>\n",
       "      <td>2023-12-31</td>\n",
       "      <td>2024-01-02</td>\n",
       "      <td>12.33</td>\n",
       "      <td>2024-12-30</td>\n",
       "      <td>17.73</td>\n",
       "    </tr>\n",
       "    <tr>\n",
       "      <th>2</th>\n",
       "      <td>CALM</td>\n",
       "      <td>2023-06-03</td>\n",
       "      <td>2023-06-05</td>\n",
       "      <td>47.09</td>\n",
       "      <td>2024-06-03</td>\n",
       "      <td>61.12</td>\n",
       "    </tr>\n",
       "    <tr>\n",
       "      <th>3</th>\n",
       "      <td>APA</td>\n",
       "      <td>2023-12-31</td>\n",
       "      <td>2024-01-02</td>\n",
       "      <td>36.11</td>\n",
       "      <td>2024-12-30</td>\n",
       "      <td>22.42</td>\n",
       "    </tr>\n",
       "    <tr>\n",
       "      <th>4</th>\n",
       "      <td>FINV</td>\n",
       "      <td>2023-12-31</td>\n",
       "      <td>2024-01-02</td>\n",
       "      <td>4.82</td>\n",
       "      <td>2024-12-30</td>\n",
       "      <td>6.80</td>\n",
       "    </tr>\n",
       "    <tr>\n",
       "      <th>...</th>\n",
       "      <td>...</td>\n",
       "      <td>...</td>\n",
       "      <td>...</td>\n",
       "      <td>...</td>\n",
       "      <td>...</td>\n",
       "      <td>...</td>\n",
       "    </tr>\n",
       "    <tr>\n",
       "      <th>353</th>\n",
       "      <td>FA</td>\n",
       "      <td>2005-12-31</td>\n",
       "      <td>2006-01-02</td>\n",
       "      <td>NaN</td>\n",
       "      <td>2007-01-01</td>\n",
       "      <td>NaN</td>\n",
       "    </tr>\n",
       "    <tr>\n",
       "      <th>354</th>\n",
       "      <td>APLD</td>\n",
       "      <td>2005-05-31</td>\n",
       "      <td>2005-05-31</td>\n",
       "      <td>NaN</td>\n",
       "      <td>2006-05-31</td>\n",
       "      <td>NaN</td>\n",
       "    </tr>\n",
       "    <tr>\n",
       "      <th>355</th>\n",
       "      <td>FA</td>\n",
       "      <td>2004-12-31</td>\n",
       "      <td>2004-12-31</td>\n",
       "      <td>NaN</td>\n",
       "      <td>2006-01-02</td>\n",
       "      <td>NaN</td>\n",
       "    </tr>\n",
       "    <tr>\n",
       "      <th>356</th>\n",
       "      <td>APLD</td>\n",
       "      <td>2004-05-31</td>\n",
       "      <td>2004-05-31</td>\n",
       "      <td>NaN</td>\n",
       "      <td>2005-05-31</td>\n",
       "      <td>NaN</td>\n",
       "    </tr>\n",
       "    <tr>\n",
       "      <th>357</th>\n",
       "      <td>RXO</td>\n",
       "      <td>2001-12-31</td>\n",
       "      <td>2001-12-31</td>\n",
       "      <td>NaN</td>\n",
       "      <td>2002-12-31</td>\n",
       "      <td>NaN</td>\n",
       "    </tr>\n",
       "  </tbody>\n",
       "</table>\n",
       "<p>358 rows × 6 columns</p>\n",
       "</div>"
      ],
      "text/plain": [
       "    symbol        date adjusted_date   close adjusted_date_one_year_later  \\\n",
       "0     GPOR  2023-12-31    2024-01-02  134.09                   2024-12-30   \n",
       "1     FIHL  2023-12-31    2024-01-02   12.33                   2024-12-30   \n",
       "2     CALM  2023-06-03    2023-06-05   47.09                   2024-06-03   \n",
       "3      APA  2023-12-31    2024-01-02   36.11                   2024-12-30   \n",
       "4     FINV  2023-12-31    2024-01-02    4.82                   2024-12-30   \n",
       "..     ...         ...           ...     ...                          ...   \n",
       "353     FA  2005-12-31    2006-01-02     NaN                   2007-01-01   \n",
       "354   APLD  2005-05-31    2005-05-31     NaN                   2006-05-31   \n",
       "355     FA  2004-12-31    2004-12-31     NaN                   2006-01-02   \n",
       "356   APLD  2004-05-31    2004-05-31     NaN                   2005-05-31   \n",
       "357    RXO  2001-12-31    2001-12-31     NaN                   2002-12-31   \n",
       "\n",
       "     close_one_year_later  \n",
       "0                  181.50  \n",
       "1                   17.73  \n",
       "2                   61.12  \n",
       "3                   22.42  \n",
       "4                    6.80  \n",
       "..                    ...  \n",
       "353                   NaN  \n",
       "354                   NaN  \n",
       "355                   NaN  \n",
       "356                   NaN  \n",
       "357                   NaN  \n",
       "\n",
       "[358 rows x 6 columns]"
      ]
     },
     "execution_count": 42,
     "metadata": {},
     "output_type": "execute_result"
    }
   ],
   "source": [
    "close_df"
   ]
  },
  {
   "cell_type": "code",
   "execution_count": 43,
   "metadata": {},
   "outputs": [],
   "source": [
    "close_df.to_csv(\"stock_prices.csv\")"
   ]
  },
  {
   "cell_type": "code",
   "execution_count": null,
   "metadata": {},
   "outputs": [],
   "source": []
  }
 ],
 "metadata": {
  "kernelspec": {
   "display_name": ".venv",
   "language": "python",
   "name": "python3"
  },
  "language_info": {
   "codemirror_mode": {
    "name": "ipython",
    "version": 3
   },
   "file_extension": ".py",
   "mimetype": "text/x-python",
   "name": "python",
   "nbconvert_exporter": "python",
   "pygments_lexer": "ipython3",
   "version": "3.10.7"
  }
 },
 "nbformat": 4,
 "nbformat_minor": 2
}
